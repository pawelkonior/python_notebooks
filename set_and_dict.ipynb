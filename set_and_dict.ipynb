{
 "cells": [
  {
   "cell_type": "markdown",
   "id": "d81f81fd-ae3c-4450-8727-5594fd75b0cb",
   "metadata": {},
   "source": [
    "# Set\n",
    "\n",
    "1. Zawiera unikalne wartości\n",
    "2. Kolekcja\n",
    "3. Nieuporządkowana\n",
    "4. Heterogeniczna, ale tylko typy hashowalne\n",
    "5. Modyfikowalny\n",
    "\n",
    "\n",
    "```python\n",
    "\n",
    "x = {1, 2}\n",
    "type(x)  # set\n",
    "\n",
    "# set(iterable)  # np. set([1, 2, 3]) -> {1, 2, 3} \n",
    "\n",
    "```"
   ]
  },
  {
   "cell_type": "code",
   "execution_count": 1,
   "id": "abe5c9ee-06e6-47cc-a26e-4c48d3b59666",
   "metadata": {},
   "outputs": [
    {
     "data": {
      "text/plain": [
       "set"
      ]
     },
     "execution_count": 1,
     "metadata": {},
     "output_type": "execute_result"
    }
   ],
   "source": [
    "x = {1, 2, 3}\n",
    "type(x)"
   ]
  },
  {
   "cell_type": "code",
   "execution_count": 2,
   "id": "53945116-1618-4fc9-be70-5d13272eb7f6",
   "metadata": {},
   "outputs": [
    {
     "data": {
      "text/plain": [
       "{'', (1, 2), 1, 2, 3, 4, 5, 'ala'}"
      ]
     },
     "execution_count": 2,
     "metadata": {},
     "output_type": "execute_result"
    }
   ],
   "source": [
    "{1, 2, 3, 4, 5, (1, 2), 1.0, True, \"\", \"ala\"}"
   ]
  },
  {
   "cell_type": "code",
   "execution_count": 3,
   "id": "e28c085a-f581-4629-b9f8-e9120513c5cc",
   "metadata": {},
   "outputs": [
    {
     "data": {
      "text/plain": [
       "{1, 2, 3}"
      ]
     },
     "execution_count": 3,
     "metadata": {},
     "output_type": "execute_result"
    }
   ],
   "source": [
    "l = [1, 2, 3]\n",
    "set(l)"
   ]
  },
  {
   "cell_type": "code",
   "execution_count": 6,
   "id": "3c1b549c-018a-478f-9d22-9d77a83b99c8",
   "metadata": {},
   "outputs": [
    {
     "data": {
      "text/plain": [
       "(1, 2, 3, [42, 2, 3])"
      ]
     },
     "execution_count": 6,
     "metadata": {},
     "output_type": "execute_result"
    }
   ],
   "source": [
    "t = (1, 2, 3, [1, 2, 3])\n",
    "# set(t)\n",
    "# {1, 2, 3, t}\n",
    "t[-1][0] = 42\n",
    "t"
   ]
  },
  {
   "cell_type": "code",
   "execution_count": 7,
   "id": "abf85e5f-ffa4-4f30-81df-51cad5a5c5cf",
   "metadata": {},
   "outputs": [
    {
     "data": {
      "text/plain": [
       "['__and__',\n",
       " '__class__',\n",
       " '__class_getitem__',\n",
       " '__contains__',\n",
       " '__delattr__',\n",
       " '__dir__',\n",
       " '__doc__',\n",
       " '__eq__',\n",
       " '__format__',\n",
       " '__ge__',\n",
       " '__getattribute__',\n",
       " '__getstate__',\n",
       " '__gt__',\n",
       " '__hash__',\n",
       " '__iand__',\n",
       " '__init__',\n",
       " '__init_subclass__',\n",
       " '__ior__',\n",
       " '__isub__',\n",
       " '__iter__',\n",
       " '__ixor__',\n",
       " '__le__',\n",
       " '__len__',\n",
       " '__lt__',\n",
       " '__ne__',\n",
       " '__new__',\n",
       " '__or__',\n",
       " '__rand__',\n",
       " '__reduce__',\n",
       " '__reduce_ex__',\n",
       " '__repr__',\n",
       " '__ror__',\n",
       " '__rsub__',\n",
       " '__rxor__',\n",
       " '__setattr__',\n",
       " '__sizeof__',\n",
       " '__str__',\n",
       " '__sub__',\n",
       " '__subclasshook__',\n",
       " '__xor__',\n",
       " 'add',\n",
       " 'clear',\n",
       " 'copy',\n",
       " 'difference',\n",
       " 'difference_update',\n",
       " 'discard',\n",
       " 'intersection',\n",
       " 'intersection_update',\n",
       " 'isdisjoint',\n",
       " 'issubset',\n",
       " 'issuperset',\n",
       " 'pop',\n",
       " 'remove',\n",
       " 'symmetric_difference',\n",
       " 'symmetric_difference_update',\n",
       " 'union',\n",
       " 'update']"
      ]
     },
     "execution_count": 7,
     "metadata": {},
     "output_type": "execute_result"
    }
   ],
   "source": [
    "dir(set)"
   ]
  },
  {
   "cell_type": "code",
   "execution_count": 8,
   "id": "729f8027-ad5a-4539-b107-9007c606dd94",
   "metadata": {},
   "outputs": [
    {
     "data": {
      "text/plain": [
       "{1, 2, 3, 4, 5}"
      ]
     },
     "execution_count": 8,
     "metadata": {},
     "output_type": "execute_result"
    }
   ],
   "source": [
    "{1, 2, 3}.union({3, 4, 5})"
   ]
  },
  {
   "cell_type": "code",
   "execution_count": 9,
   "id": "afb2245c-f007-470c-aee2-115044c1c2be",
   "metadata": {},
   "outputs": [
    {
     "data": {
      "text/plain": [
       "{3}"
      ]
     },
     "execution_count": 9,
     "metadata": {},
     "output_type": "execute_result"
    }
   ],
   "source": [
    "{1, 2, 3}.intersection({3, 4, 5})"
   ]
  },
  {
   "cell_type": "code",
   "execution_count": 10,
   "id": "f90bf644-9053-4979-8be1-412ed8e67f32",
   "metadata": {},
   "outputs": [
    {
     "data": {
      "text/plain": [
       "{1, 2, 4, 5}"
      ]
     },
     "execution_count": 10,
     "metadata": {},
     "output_type": "execute_result"
    }
   ],
   "source": [
    "{1, 2, 3}.symmetric_difference({3, 4, 5})"
   ]
  },
  {
   "cell_type": "code",
   "execution_count": 19,
   "id": "348c8c13-14f7-420b-ab4f-f5402163f1b6",
   "metadata": {},
   "outputs": [],
   "source": [
    "x = {1, 2, 3}\n",
    "y = {3, 4, 5}"
   ]
  },
  {
   "cell_type": "code",
   "execution_count": 14,
   "id": "c0621f83-2b8d-4879-a4d5-00e78b906383",
   "metadata": {},
   "outputs": [
    {
     "data": {
      "text/plain": [
       "{1, 2, 3, 4}"
      ]
     },
     "execution_count": 14,
     "metadata": {},
     "output_type": "execute_result"
    }
   ],
   "source": [
    "x.add(4)\n",
    "x"
   ]
  },
  {
   "cell_type": "code",
   "execution_count": 15,
   "id": "0c42ca6d-ec9f-44bc-a1d5-3c7a939bb068",
   "metadata": {},
   "outputs": [
    {
     "data": {
      "text/plain": [
       "set()"
      ]
     },
     "execution_count": 15,
     "metadata": {},
     "output_type": "execute_result"
    }
   ],
   "source": [
    "x.clear()\n",
    "x"
   ]
  },
  {
   "cell_type": "code",
   "execution_count": 16,
   "id": "dd845d4c-6370-41ea-a39a-aae1d5980985",
   "metadata": {},
   "outputs": [
    {
     "name": "stdout",
     "output_type": "stream",
     "text": [
      "Help on built-in function clear:\n",
      "\n",
      "clear(...) method of builtins.set instance\n",
      "    Remove all elements from this set.\n",
      "\n"
     ]
    }
   ],
   "source": [
    "help(x.clear)"
   ]
  },
  {
   "cell_type": "code",
   "execution_count": 18,
   "id": "9ab5a402-6c8c-4251-abdf-fbf5359923e0",
   "metadata": {},
   "outputs": [
    {
     "data": {
      "text/plain": [
       "{1, 2}"
      ]
     },
     "execution_count": 18,
     "metadata": {},
     "output_type": "execute_result"
    }
   ],
   "source": [
    "x.difference(y)"
   ]
  },
  {
   "cell_type": "code",
   "execution_count": 22,
   "id": "332ce83d-737c-406c-adce-576b962121a6",
   "metadata": {},
   "outputs": [],
   "source": [
    "# operacja in-place (modyfikuje oryginalny obiekt)\n",
    "x.difference_update(y)"
   ]
  },
  {
   "cell_type": "code",
   "execution_count": 21,
   "id": "965638fb-bce7-43af-a812-a07b236fd921",
   "metadata": {},
   "outputs": [
    {
     "data": {
      "text/plain": [
       "{1, 2}"
      ]
     },
     "execution_count": 21,
     "metadata": {},
     "output_type": "execute_result"
    }
   ],
   "source": [
    "x"
   ]
  },
  {
   "cell_type": "code",
   "execution_count": 24,
   "id": "0f0561e8-1eef-4138-a028-5105f58df150",
   "metadata": {},
   "outputs": [
    {
     "data": {
      "text/plain": [
       "{1}"
      ]
     },
     "execution_count": 24,
     "metadata": {},
     "output_type": "execute_result"
    }
   ],
   "source": [
    "x.discard(2)\n",
    "x"
   ]
  },
  {
   "cell_type": "code",
   "execution_count": 25,
   "id": "f897005b-d0aa-4c61-a834-fd1d21c59607",
   "metadata": {},
   "outputs": [
    {
     "data": {
      "text/plain": [
       "{1, 2, 3, 4}"
      ]
     },
     "execution_count": 25,
     "metadata": {},
     "output_type": "execute_result"
    }
   ],
   "source": [
    "{1, 2, 3} | {1, 2, 3, 4}"
   ]
  },
  {
   "cell_type": "code",
   "execution_count": 26,
   "id": "1c5f2de9-626c-4528-806a-d932d260a18c",
   "metadata": {},
   "outputs": [
    {
     "data": {
      "text/plain": [
       "{4}"
      ]
     },
     "execution_count": 26,
     "metadata": {},
     "output_type": "execute_result"
    }
   ],
   "source": [
    "{1, 2, 3} ^ {1, 2, 3, 4}"
   ]
  },
  {
   "cell_type": "code",
   "execution_count": 27,
   "id": "03e62092-39cf-4eee-9b5f-794b40ce80de",
   "metadata": {},
   "outputs": [
    {
     "data": {
      "text/plain": [
       "{1, 2, 3}"
      ]
     },
     "execution_count": 27,
     "metadata": {},
     "output_type": "execute_result"
    }
   ],
   "source": [
    "{1, 2, 3} & {1, 2, 3, 4}"
   ]
  },
  {
   "cell_type": "code",
   "execution_count": 28,
   "id": "894cb282-9a45-48a0-b8c0-2e73303f6cf3",
   "metadata": {},
   "outputs": [
    {
     "data": {
      "text/plain": [
       "set()"
      ]
     },
     "execution_count": 28,
     "metadata": {},
     "output_type": "execute_result"
    }
   ],
   "source": [
    "{1, 2, 3} - {1, 2, 3, 4}"
   ]
  },
  {
   "cell_type": "code",
   "execution_count": 3,
   "id": "4f56970c-cd28-4592-a4b2-e4edc4d24aa9",
   "metadata": {},
   "outputs": [],
   "source": [
    "from collections import OrderedDict"
   ]
  },
  {
   "cell_type": "markdown",
   "id": "3f31270b-f82c-42bb-ba99-96a443d1029f",
   "metadata": {},
   "source": [
    "# Dict\n",
    "\n",
    "\n",
    "1. Kolekcja par, klucz - wartość\n",
    "2. Uporządkowany (od python 3.6+), nie korzystać z tej właśności, wybrać => (OrderedDict)\n",
    "3. Heterogeniczny\n",
    "4. Modyfikowalny (mutable)\n",
    "\n",
    "## Key\n",
    "- hashable (dlatego, że muszą być unikalne)\n",
    "\n",
    "## Value\n",
    "- dowolny poprawny typ python\n",
    "\n",
    "```python\n",
    "\n",
    "d = {\"a\": 1, \"b\": 2}\n",
    "d1 = dict()\n",
    "\n",
    "type(d)  # dict\n",
    "\n",
    "```"
   ]
  },
  {
   "cell_type": "code",
   "execution_count": 5,
   "id": "98765775-7cb9-4621-aa3d-80b2442c8a7c",
   "metadata": {},
   "outputs": [],
   "source": [
    "d = dict()"
   ]
  },
  {
   "cell_type": "code",
   "execution_count": 6,
   "id": "2948c798-8947-41e2-912c-deff4ad4aa3b",
   "metadata": {},
   "outputs": [
    {
     "data": {
      "text/plain": [
       "dict"
      ]
     },
     "execution_count": 6,
     "metadata": {},
     "output_type": "execute_result"
    }
   ],
   "source": [
    "type(d)"
   ]
  },
  {
   "cell_type": "code",
   "execution_count": 8,
   "id": "73ea30a2-961c-40da-b72c-8f10eda1c8ca",
   "metadata": {},
   "outputs": [],
   "source": [
    "# help(dict)"
   ]
  },
  {
   "cell_type": "code",
   "execution_count": 11,
   "id": "8cacc800-f210-438c-9550-eaabb3bae500",
   "metadata": {},
   "outputs": [
    {
     "data": {
      "text/plain": [
       "{'a': [1, 2, 3, 4]}"
      ]
     },
     "execution_count": 11,
     "metadata": {},
     "output_type": "execute_result"
    }
   ],
   "source": [
    "dict(a=[1, 2, 3, 4])"
   ]
  },
  {
   "cell_type": "code",
   "execution_count": 12,
   "id": "418c333a-c855-483d-83f9-6f08c3ebbc70",
   "metadata": {},
   "outputs": [
    {
     "data": {
      "text/plain": [
       "{1: 2}"
      ]
     },
     "execution_count": 12,
     "metadata": {},
     "output_type": "execute_result"
    }
   ],
   "source": [
    "dict([[1, 2]])"
   ]
  },
  {
   "cell_type": "code",
   "execution_count": 14,
   "id": "06968235-72ad-445e-afb7-c499629c89cc",
   "metadata": {},
   "outputs": [
    {
     "data": {
      "text/plain": [
       "{1: 2, 2: 3, 3: 1}"
      ]
     },
     "execution_count": 14,
     "metadata": {},
     "output_type": "execute_result"
    }
   ],
   "source": [
    "dict([[1, 2], [2, 3], (2, 3), (3, 1)])"
   ]
  },
  {
   "cell_type": "code",
   "execution_count": 15,
   "id": "08b229c9-0528-4d25-bfb0-5b674a9100cc",
   "metadata": {},
   "outputs": [
    {
     "data": {
      "text/plain": [
       "['__class__',\n",
       " '__class_getitem__',\n",
       " '__contains__',\n",
       " '__delattr__',\n",
       " '__delitem__',\n",
       " '__dir__',\n",
       " '__doc__',\n",
       " '__eq__',\n",
       " '__format__',\n",
       " '__ge__',\n",
       " '__getattribute__',\n",
       " '__getitem__',\n",
       " '__getstate__',\n",
       " '__gt__',\n",
       " '__hash__',\n",
       " '__init__',\n",
       " '__init_subclass__',\n",
       " '__ior__',\n",
       " '__iter__',\n",
       " '__le__',\n",
       " '__len__',\n",
       " '__lt__',\n",
       " '__ne__',\n",
       " '__new__',\n",
       " '__or__',\n",
       " '__reduce__',\n",
       " '__reduce_ex__',\n",
       " '__repr__',\n",
       " '__reversed__',\n",
       " '__ror__',\n",
       " '__setattr__',\n",
       " '__setitem__',\n",
       " '__sizeof__',\n",
       " '__str__',\n",
       " '__subclasshook__',\n",
       " 'clear',\n",
       " 'copy',\n",
       " 'fromkeys',\n",
       " 'get',\n",
       " 'items',\n",
       " 'keys',\n",
       " 'pop',\n",
       " 'popitem',\n",
       " 'setdefault',\n",
       " 'update',\n",
       " 'values']"
      ]
     },
     "execution_count": 15,
     "metadata": {},
     "output_type": "execute_result"
    }
   ],
   "source": [
    "dir(dict)"
   ]
  },
  {
   "cell_type": "code",
   "execution_count": 16,
   "id": "4e755cbe-894c-4368-9cec-adfa17a06afc",
   "metadata": {},
   "outputs": [],
   "source": [
    "d = {\"a\": 1, \"b\": 2}"
   ]
  },
  {
   "cell_type": "code",
   "execution_count": 17,
   "id": "6168e94a-89b3-4219-a45d-efb47f66fa99",
   "metadata": {},
   "outputs": [
    {
     "data": {
      "text/plain": [
       "{}"
      ]
     },
     "execution_count": 17,
     "metadata": {},
     "output_type": "execute_result"
    }
   ],
   "source": [
    "d.clear()\n",
    "d"
   ]
  },
  {
   "cell_type": "code",
   "execution_count": 18,
   "id": "36704d06-bccb-48c8-92e7-9d3e5b10ad97",
   "metadata": {},
   "outputs": [],
   "source": [
    "d = {\"a\": 1, \"b\": 2}"
   ]
  },
  {
   "cell_type": "code",
   "execution_count": 19,
   "id": "ac0ccb4c-9c15-4380-aea3-d465a60c641b",
   "metadata": {},
   "outputs": [
    {
     "data": {
      "text/plain": [
       "{'a': 1, 'b': 2}"
      ]
     },
     "execution_count": 19,
     "metadata": {},
     "output_type": "execute_result"
    }
   ],
   "source": [
    "d1 = d.copy()\n",
    "d1 "
   ]
  },
  {
   "cell_type": "code",
   "execution_count": 20,
   "id": "0ff90c14-5df7-4f7f-83ed-a2e4a1e582d0",
   "metadata": {},
   "outputs": [
    {
     "data": {
      "text/plain": [
       "1"
      ]
     },
     "execution_count": 20,
     "metadata": {},
     "output_type": "execute_result"
    }
   ],
   "source": [
    "d[\"a\"]"
   ]
  },
  {
   "cell_type": "code",
   "execution_count": 21,
   "id": "d8c27205-d43a-40a0-be89-32e19d59d42f",
   "metadata": {},
   "outputs": [
    {
     "ename": "KeyError",
     "evalue": "'z'",
     "output_type": "error",
     "traceback": [
      "\u001b[0;31m---------------------------------------------------------------------------\u001b[0m",
      "\u001b[0;31mKeyError\u001b[0m                                  Traceback (most recent call last)",
      "Cell \u001b[0;32mIn[21], line 1\u001b[0m\n\u001b[0;32m----> 1\u001b[0m \u001b[43md\u001b[49m\u001b[43m[\u001b[49m\u001b[38;5;124;43m\"\u001b[39;49m\u001b[38;5;124;43mz\u001b[39;49m\u001b[38;5;124;43m\"\u001b[39;49m\u001b[43m]\u001b[49m\n",
      "\u001b[0;31mKeyError\u001b[0m: 'z'"
     ]
    }
   ],
   "source": [
    "d[\"z\"]"
   ]
  },
  {
   "cell_type": "code",
   "execution_count": 22,
   "id": "30771892-7d6e-410b-a39c-ec5aaa8b76f0",
   "metadata": {},
   "outputs": [
    {
     "data": {
      "text/plain": [
       "1"
      ]
     },
     "execution_count": 22,
     "metadata": {},
     "output_type": "execute_result"
    }
   ],
   "source": [
    "d.get(\"a\")"
   ]
  },
  {
   "cell_type": "code",
   "execution_count": 24,
   "id": "13098630-4195-4639-9862-63fda9607c62",
   "metadata": {},
   "outputs": [
    {
     "name": "stdout",
     "output_type": "stream",
     "text": [
      "None\n"
     ]
    }
   ],
   "source": [
    "print(d.get(\"z\"))"
   ]
  },
  {
   "cell_type": "code",
   "execution_count": 25,
   "id": "c17923fe-0dc7-4a25-8f31-7f1f8e98ce39",
   "metadata": {},
   "outputs": [
    {
     "data": {
      "text/plain": [
       "'Something is no yes!'"
      ]
     },
     "execution_count": 25,
     "metadata": {},
     "output_type": "execute_result"
    }
   ],
   "source": [
    "d.get(\"z\", \"Something is no yes!\")"
   ]
  },
  {
   "cell_type": "code",
   "execution_count": 26,
   "id": "815f6e54-de96-41dd-82a4-8fbe73630b82",
   "metadata": {},
   "outputs": [
    {
     "data": {
      "text/plain": [
       "dict_keys(['a', 'b'])"
      ]
     },
     "execution_count": 26,
     "metadata": {},
     "output_type": "execute_result"
    }
   ],
   "source": [
    "d.keys()"
   ]
  },
  {
   "cell_type": "code",
   "execution_count": 27,
   "id": "9c7784d0-2b83-4d2e-b28a-b28bd424a0e7",
   "metadata": {},
   "outputs": [
    {
     "data": {
      "text/plain": [
       "dict_values([1, 2])"
      ]
     },
     "execution_count": 27,
     "metadata": {},
     "output_type": "execute_result"
    }
   ],
   "source": [
    "d.values()"
   ]
  },
  {
   "cell_type": "code",
   "execution_count": 28,
   "id": "1d31d70f-d0ac-4d55-bb48-ea5489adb768",
   "metadata": {},
   "outputs": [
    {
     "data": {
      "text/plain": [
       "dict_items([('a', 1), ('b', 2)])"
      ]
     },
     "execution_count": 28,
     "metadata": {},
     "output_type": "execute_result"
    }
   ],
   "source": [
    "d.items()"
   ]
  },
  {
   "cell_type": "markdown",
   "id": "385db912-db19-4a55-a0ba-539090582956",
   "metadata": {},
   "source": [
    "#### Keys"
   ]
  },
  {
   "cell_type": "code",
   "execution_count": 30,
   "id": "def8be67-bd71-4627-a2b1-9ea39e0e7d7d",
   "metadata": {},
   "outputs": [],
   "source": [
    "d = {\n",
    "    True: 1,\n",
    "    1: 2, \n",
    "    0: 3,\n",
    "    False: 4,\n",
    "    0.00000: 5,\n",
    "    0.00000000000001: 6,\n",
    "    (1,): 7,\n",
    "    (1, 2): 8,\n",
    "    \"\": 9,\n",
    "    \"ala\": 10\n",
    "}"
   ]
  },
  {
   "cell_type": "code",
   "execution_count": 31,
   "id": "5b0b4de9-bbde-4be5-a1b4-2b9cbd5313f9",
   "metadata": {},
   "outputs": [
    {
     "data": {
      "text/plain": [
       "{True: 2, 0: 5, 1e-14: 6, (1,): 7, (1, 2): 8, '': 9, 'ala': 10}"
      ]
     },
     "execution_count": 31,
     "metadata": {},
     "output_type": "execute_result"
    }
   ],
   "source": [
    "d"
   ]
  },
  {
   "cell_type": "code",
   "execution_count": 32,
   "id": "966246e6-de0d-4020-b1bb-dac46e400a82",
   "metadata": {},
   "outputs": [
    {
     "data": {
      "text/plain": [
       "2"
      ]
     },
     "execution_count": 32,
     "metadata": {},
     "output_type": "execute_result"
    }
   ],
   "source": [
    "d[1]"
   ]
  },
  {
   "cell_type": "code",
   "execution_count": 33,
   "id": "709debff-c35c-4b82-ad53-3aae0b0020e7",
   "metadata": {},
   "outputs": [
    {
     "data": {
      "text/plain": [
       "(1, 1, 1)"
      ]
     },
     "execution_count": 33,
     "metadata": {},
     "output_type": "execute_result"
    }
   ],
   "source": [
    "hash(1), hash(True), hash(1.0000)"
   ]
  },
  {
   "cell_type": "code",
   "execution_count": 34,
   "id": "f7df06e3-9088-4007-85dc-9c1efad43482",
   "metadata": {},
   "outputs": [
    {
     "data": {
      "text/plain": [
       "2"
      ]
     },
     "execution_count": 34,
     "metadata": {},
     "output_type": "execute_result"
    }
   ],
   "source": [
    "d[1.00000000000000000000000]"
   ]
  },
  {
   "cell_type": "code",
   "execution_count": 35,
   "id": "3f6c6c2b-cf07-4498-8454-ac9516b522c4",
   "metadata": {},
   "outputs": [
    {
     "data": {
      "text/plain": [
       "2"
      ]
     },
     "execution_count": 35,
     "metadata": {},
     "output_type": "execute_result"
    }
   ],
   "source": [
    "d[True]"
   ]
  },
  {
   "cell_type": "code",
   "execution_count": 36,
   "id": "d8adc90f-5a83-404e-b1e2-b260e4f96de0",
   "metadata": {},
   "outputs": [
    {
     "data": {
      "text/plain": [
       "7"
      ]
     },
     "execution_count": 36,
     "metadata": {},
     "output_type": "execute_result"
    }
   ],
   "source": [
    "d[(1,)]"
   ]
  },
  {
   "cell_type": "code",
   "execution_count": 37,
   "id": "e929cd88-0f9b-40fe-ab5b-700e3d0ffe05",
   "metadata": {},
   "outputs": [
    {
     "data": {
      "text/plain": [
       "9"
      ]
     },
     "execution_count": 37,
     "metadata": {},
     "output_type": "execute_result"
    }
   ],
   "source": [
    "d[\"\"]"
   ]
  },
  {
   "cell_type": "code",
   "execution_count": 39,
   "id": "474d7c60-0fba-4bef-9c63-1e83f1497e09",
   "metadata": {},
   "outputs": [],
   "source": [
    "capitals = {\n",
    "    \"Poland\": \"Warsaw\",\n",
    "    \"Germany\": \"Berlin\",\n",
    "    \"France\": \"Paris\",\n",
    "    \"Italy\": \"Rome\",\n",
    "    \"Spain\": \"Madrid\",\n",
    "    \"United Kingdom\": \"London\",\n",
    "    \"United States\": \"Washington, D.C.\",\n",
    "    \"Canada\": \"Ottawa\",\n",
    "    \"Australia\": \"Canberra\",\n",
    "    \"Japan\": \"Tokyo\"\n",
    "}"
   ]
  },
  {
   "cell_type": "code",
   "execution_count": 42,
   "id": "cb4c6194-ff74-4b27-b40b-7d1285f37d25",
   "metadata": {},
   "outputs": [
    {
     "name": "stdout",
     "output_type": "stream",
     "text": [
      "Poland\n",
      "France\n",
      "Spain\n",
      "United States\n",
      "Canada\n",
      "Australia\n"
     ]
    }
   ],
   "source": [
    "# domyślny iterator w słowniku iteruje po kluczach\n",
    "for country in capitals:\n",
    "    if 'a' in capitals[country]:\n",
    "        print(country)"
   ]
  },
  {
   "cell_type": "code",
   "execution_count": 44,
   "id": "b45fe750-53d3-4639-99bd-4e073a533f07",
   "metadata": {},
   "outputs": [
    {
     "name": "stdout",
     "output_type": "stream",
     "text": [
      "Poland\n",
      "France\n",
      "Spain\n",
      "United States\n",
      "Canada\n",
      "Australia\n"
     ]
    }
   ],
   "source": [
    "for country, capital in capitals.items():\n",
    "    if 'a' in capital:\n",
    "        print(country)"
   ]
  },
  {
   "cell_type": "code",
   "execution_count": 46,
   "id": "722e72f7-ae16-4770-b52f-ddc7d34bd9af",
   "metadata": {},
   "outputs": [
    {
     "name": "stdout",
     "output_type": "stream",
     "text": [
      "Poland\n",
      "France\n",
      "Spain\n",
      "United States\n",
      "Canada\n",
      "Australia\n"
     ]
    }
   ],
   "source": [
    "for key, value in capitals.items():\n",
    "    if 'a' in value:\n",
    "        print(key)"
   ]
  },
  {
   "cell_type": "code",
   "execution_count": 48,
   "id": "f45dfe73-a9ed-4955-9b16-92a0df57eb6e",
   "metadata": {},
   "outputs": [
    {
     "data": {
      "text/plain": [
       "['Poland',\n",
       " 'Germany',\n",
       " 'France',\n",
       " 'Italy',\n",
       " 'Spain',\n",
       " 'United Kingdom',\n",
       " 'United States',\n",
       " 'Canada',\n",
       " 'Australia',\n",
       " 'Japan']"
      ]
     },
     "execution_count": 48,
     "metadata": {},
     "output_type": "execute_result"
    }
   ],
   "source": [
    "list(capitals.keys())"
   ]
  },
  {
   "cell_type": "code",
   "execution_count": 49,
   "id": "a067f7af-b4f4-446a-a577-37da1a985972",
   "metadata": {},
   "outputs": [
    {
     "data": {
      "text/plain": [
       "['Poland',\n",
       " 'Germany',\n",
       " 'France',\n",
       " 'Italy',\n",
       " 'Spain',\n",
       " 'United Kingdom',\n",
       " 'United States',\n",
       " 'Canada',\n",
       " 'Australia',\n",
       " 'Japan']"
      ]
     },
     "execution_count": 49,
     "metadata": {},
     "output_type": "execute_result"
    }
   ],
   "source": [
    "list(capitals)"
   ]
  },
  {
   "cell_type": "code",
   "execution_count": 50,
   "id": "f7728124-c419-4638-a244-22bee1712b17",
   "metadata": {},
   "outputs": [
    {
     "data": {
      "text/plain": [
       "('Warsaw',\n",
       " 'Berlin',\n",
       " 'Paris',\n",
       " 'Rome',\n",
       " 'Madrid',\n",
       " 'London',\n",
       " 'Washington, D.C.',\n",
       " 'Ottawa',\n",
       " 'Canberra',\n",
       " 'Tokyo')"
      ]
     },
     "execution_count": 50,
     "metadata": {},
     "output_type": "execute_result"
    }
   ],
   "source": [
    "tuple(capitals.values())"
   ]
  },
  {
   "cell_type": "code",
   "execution_count": null,
   "id": "a67d226f-124d-4f37-b1ae-259f9bd9219a",
   "metadata": {},
   "outputs": [],
   "source": []
  }
 ],
 "metadata": {
  "kernelspec": {
   "display_name": "Python 3 (ipykernel)",
   "language": "python",
   "name": "python3"
  },
  "language_info": {
   "codemirror_mode": {
    "name": "ipython",
    "version": 3
   },
   "file_extension": ".py",
   "mimetype": "text/x-python",
   "name": "python",
   "nbconvert_exporter": "python",
   "pygments_lexer": "ipython3",
   "version": "3.12.3"
  }
 },
 "nbformat": 4,
 "nbformat_minor": 5
}
