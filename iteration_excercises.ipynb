{
 "cells": [
  {
   "cell_type": "code",
   "execution_count": 1,
   "id": "02e6eb2c-d00e-474f-a0c0-aa40c1dfd89e",
   "metadata": {},
   "outputs": [],
   "source": [
    "data = [\n",
    "    {\n",
    "        \"name\": \"pawel\",\n",
    "        \"age\": 39,\n",
    "        \"city\": \"krakow\",\n",
    "        \"hobbies\": [\"js\", \"python\", \"drugs\"]\n",
    "    },\n",
    "    {\n",
    "        \"name\": \"kamil\",\n",
    "        \"age\": 28,\n",
    "        \"city\": \"gryfino\",\n",
    "        \"hobbies\": [\"js\", \"python\", \"godot\"]\n",
    "    },\n",
    "    {\n",
    "        \"name\": \"szymon\",\n",
    "        \"age\": 30,\n",
    "        \"city\": \"legnica\",\n",
    "        \"hobbies\": [\"crypto\", \"work\"]\n",
    "    },\n",
    "    {\n",
    "        \"name\": \"mateusz\",\n",
    "        \"age\": 30,\n",
    "        \"city\": \"wroclaw\",\n",
    "        \"hobbies\": [\"bjj\", \"coding\", \"movies\"]\n",
    "    },\n",
    "    {\n",
    "        'name': 'piotr',\n",
    "        'age': 34,\n",
    "        'city': 'warszawa',\n",
    "        'hobbies': ['climbing', 'running', 'python']\n",
    "    },\n",
    "    {\n",
    "        'name': 'dawid',\n",
    "        'age': 36,\n",
    "        'city': 'torun',\n",
    "        'hobbies': ['boardgames', 'football', 'squash']\n",
    "    },\n",
    "    {\n",
    "        \"name\": \"aleksandra\",\n",
    "        \"age\": 29,\n",
    "        \"city\": \"poznan\",\n",
    "        \"hobbies\": [\"music\", \"art\", \"math\"]\n",
    "    },\n",
    "    {\n",
    "        \"name\": \"renata\",\n",
    "        \"age\": 29,\n",
    "        \"city\": \"sosnowiec\",\n",
    "        \"hobbies\": [\"photography\", \"literature\", \"trips\"]\n",
    "    },\n",
    "    {\n",
    "        'name': \"lukasz\",\n",
    "        'age': 37,\n",
    "        'city': 'brwinow',\n",
    "        'hobbies': ['Cycling', 'Home Beer brewing', 'Learning new things'],\n",
    "    },\n",
    "    {\n",
    "        \"name\": \"bartek\",\n",
    "        \"age\": 47,\n",
    "        \"city\": \"warszawa\",\n",
    "        \"hobbies\": [\"gry\", \"muzyka\", \"filmy\"]\n",
    "    },\n",
    "    {\n",
    "        \"name\": \"igor\",\n",
    "        \"age\": 31,\n",
    "        \"city\": \"wroclaw\",\n",
    "        \"hobbies\": [\"anime\", \"mangi\", \"gry\"]\n",
    "    },\n",
    "    {\n",
    "        \"name\": \"magda\",\n",
    "        \"age\": 31,\n",
    "        \"city\": \"torun\",\n",
    "        \"hobbies\": [\"books\", \"jogging\", \"plants\"]\n",
    "    },\n",
    "    {\n",
    "        \"name\": \"karol\",\n",
    "        \"age\": 38,\n",
    "        \"city\": \"warszawa\",\n",
    "        \"hobbies\": [\"sport\", \"music\", \"culinary\"]\n",
    "    },\n",
    "    {\n",
    "        \"name\": \"pawel\",\n",
    "        \"age\": 33,\n",
    "        \"city\": \"poznan\",\n",
    "        \"hobbies\": [\"music\", \"traveling\", \"photography\"]\n",
    "    }\n",
    "]\n"
   ]
  },
  {
   "cell_type": "code",
   "execution_count": 2,
   "id": "28bac01c-bdc9-4c30-94cf-b5060a8ad657",
   "metadata": {},
   "outputs": [
    {
     "data": {
      "text/plain": [
       "14"
      ]
     },
     "execution_count": 2,
     "metadata": {},
     "output_type": "execute_result"
    }
   ],
   "source": [
    "len(data)"
   ]
  },
  {
   "cell_type": "markdown",
   "id": "c8b846c8-f59b-42a0-a6f4-9df18b670afd",
   "metadata": {},
   "source": [
    "Policz średnią wieku"
   ]
  },
  {
   "cell_type": "code",
   "execution_count": 3,
   "id": "a850dd44-3137-4244-88af-ce5b6cc4cf28",
   "metadata": {},
   "outputs": [],
   "source": [
    "def avg_age(dataset):\n",
    "    total_age = 0\n",
    "\n",
    "    for person in dataset:\n",
    "        total_age += person[\"age\"]\n",
    "\n",
    "    return total_age / len(dataset)\n",
    "    "
   ]
  },
  {
   "cell_type": "code",
   "execution_count": 4,
   "id": "d7157fac-e901-4dd4-a26b-38613e4a8f8a",
   "metadata": {},
   "outputs": [
    {
     "data": {
      "text/plain": [
       "33.714285714285715"
      ]
     },
     "execution_count": 4,
     "metadata": {},
     "output_type": "execute_result"
    }
   ],
   "source": [
    "avg_age(data)"
   ]
  },
  {
   "cell_type": "code",
   "execution_count": 7,
   "id": "78dc35d9-9447-4ddb-a327-67715e59df7a",
   "metadata": {},
   "outputs": [],
   "source": [
    "def avg_age_2(dataset):\n",
    "    return sum(person[\"age\"] for person in dataset) / len(dataset)"
   ]
  },
  {
   "cell_type": "code",
   "execution_count": 8,
   "id": "79ac08d7-2aa0-445f-8e8c-297824f287af",
   "metadata": {},
   "outputs": [
    {
     "data": {
      "text/plain": [
       "33.714285714285715"
      ]
     },
     "execution_count": 8,
     "metadata": {},
     "output_type": "execute_result"
    }
   ],
   "source": [
    "avg_age_2(data)"
   ]
  },
  {
   "cell_type": "code",
   "execution_count": 9,
   "id": "2ff0bd62-a51a-4d47-b288-a84fa2f787f6",
   "metadata": {},
   "outputs": [],
   "source": [
    "def avg_age_3(dataset):\n",
    "    return sum(map(lambda person: person[\"age\"], dataset)) / len(dataset)"
   ]
  },
  {
   "cell_type": "code",
   "execution_count": 10,
   "id": "70a57cc0-9a35-4cfc-b68b-fdfc53542719",
   "metadata": {},
   "outputs": [
    {
     "data": {
      "text/plain": [
       "33.714285714285715"
      ]
     },
     "execution_count": 10,
     "metadata": {},
     "output_type": "execute_result"
    }
   ],
   "source": [
    "avg_age_3(data)"
   ]
  },
  {
   "cell_type": "markdown",
   "id": "05739c87-a5fd-4309-9c24-b56a0ab6a5f6",
   "metadata": {},
   "source": [
    "Policz średnią wieku ludzi spoza warszawy"
   ]
  },
  {
   "cell_type": "code",
   "execution_count": 28,
   "id": "398b4ccf-2416-4a75-83bb-45b01d485db9",
   "metadata": {},
   "outputs": [],
   "source": [
    "def avg_age_outside_waw(dataset):\n",
    "    total_age = 0\n",
    "    counter = 0\n",
    "\n",
    "    for person in dataset:\n",
    "        if person[\"city\"].lower() != 'warszawa':\n",
    "            total_age += person[\"age\"]\n",
    "            counter += 1\n",
    "\n",
    "    return total_age / counter"
   ]
  },
  {
   "cell_type": "code",
   "execution_count": 29,
   "id": "7070b5bd-855d-4f4f-ba6a-4038a5a6ae10",
   "metadata": {},
   "outputs": [
    {
     "data": {
      "text/plain": [
       "32.09090909090909"
      ]
     },
     "execution_count": 29,
     "metadata": {},
     "output_type": "execute_result"
    }
   ],
   "source": [
    "avg_age_outside_waw(data)"
   ]
  },
  {
   "cell_type": "code",
   "execution_count": 34,
   "id": "0028aab4-f892-423c-aab0-4a9e0802b72f",
   "metadata": {},
   "outputs": [],
   "source": [
    "def avg_age_outside_waw_2(dataset):\n",
    "    ages = [person[\"age\"] for person in dataset if person[\"city\"].lower() != \"warszawa\"]\n",
    "    return sum(ages) / len(ages)"
   ]
  },
  {
   "cell_type": "code",
   "execution_count": 35,
   "id": "158ed765-e74c-4558-acef-a222dab2ce1d",
   "metadata": {},
   "outputs": [
    {
     "data": {
      "text/plain": [
       "32.09090909090909"
      ]
     },
     "execution_count": 35,
     "metadata": {},
     "output_type": "execute_result"
    }
   ],
   "source": [
    "avg_age_outside_waw_2(data)"
   ]
  },
  {
   "cell_type": "code",
   "execution_count": 36,
   "id": "a97c8316-e21e-47a1-8d40-d6bd6ea72373",
   "metadata": {},
   "outputs": [],
   "source": [
    "def avg_age_outside_waw_3(dataset):\n",
    "    ages = list(filter(lambda person: person[\"city\"].lower() != \"warszawa\", dataset))\n",
    "    return sum(map(lambda person: person[\"age\"], ages)) / len(ages)"
   ]
  },
  {
   "cell_type": "code",
   "execution_count": 37,
   "id": "c2a836e3-7d53-4162-895b-43466bed29be",
   "metadata": {},
   "outputs": [
    {
     "data": {
      "text/plain": [
       "32.09090909090909"
      ]
     },
     "execution_count": 37,
     "metadata": {},
     "output_type": "execute_result"
    }
   ],
   "source": [
    "avg_age_outside_waw_3(data)"
   ]
  },
  {
   "cell_type": "markdown",
   "id": "32158893-2a50-4d76-b545-8bbf8c3f56ed",
   "metadata": {},
   "source": [
    "Zwróc imiona osób, które są z wawrszawy"
   ]
  },
  {
   "cell_type": "code",
   "execution_count": 38,
   "id": "b84db838-8d0c-4479-861d-5de0fa8d4a2a",
   "metadata": {},
   "outputs": [],
   "source": [
    "def show_names(people):\n",
    "    names = []\n",
    "\n",
    "    for person in people:\n",
    "        if person['city'].lower() == 'warszawa':\n",
    "            names.append(person['name'])\n",
    "\n",
    "    return names"
   ]
  },
  {
   "cell_type": "code",
   "execution_count": 39,
   "id": "6e8ed300-d078-45a3-aa65-d45e8b0ff540",
   "metadata": {},
   "outputs": [
    {
     "data": {
      "text/plain": [
       "['piotr', 'bartek', 'karol']"
      ]
     },
     "execution_count": 39,
     "metadata": {},
     "output_type": "execute_result"
    }
   ],
   "source": [
    "show_names(data)"
   ]
  },
  {
   "cell_type": "code",
   "execution_count": 41,
   "id": "6e28d76b-07ff-4d86-95be-55555bb4adc3",
   "metadata": {},
   "outputs": [],
   "source": [
    "def show_names_2(people):\n",
    "    return [person['name'] for person in people if person['city'].lower() == 'warszawa']"
   ]
  },
  {
   "cell_type": "code",
   "execution_count": 42,
   "id": "dc8460a8-ab37-4c3a-8b72-24e4d2726cd4",
   "metadata": {},
   "outputs": [
    {
     "data": {
      "text/plain": [
       "['piotr', 'bartek', 'karol']"
      ]
     },
     "execution_count": 42,
     "metadata": {},
     "output_type": "execute_result"
    }
   ],
   "source": [
    "show_names_2(data)"
   ]
  },
  {
   "cell_type": "code",
   "execution_count": 43,
   "id": "2accec6b-257a-40c3-9f9b-1f7b10bda317",
   "metadata": {},
   "outputs": [],
   "source": [
    "def show_names_3(people):\n",
    "    return list(map(\n",
    "        lambda person: person['name'],\n",
    "        filter(lambda person: person['city'].lower() == 'warszawa', people)\n",
    "    ))"
   ]
  },
  {
   "cell_type": "code",
   "execution_count": 44,
   "id": "1bfe7280-72ea-46ee-8321-9ca15af8ef5b",
   "metadata": {},
   "outputs": [
    {
     "data": {
      "text/plain": [
       "['piotr', 'bartek', 'karol']"
      ]
     },
     "execution_count": 44,
     "metadata": {},
     "output_type": "execute_result"
    }
   ],
   "source": [
    "show_names_3(data)"
   ]
  },
  {
   "cell_type": "markdown",
   "id": "50908ee1-c11a-4cf8-861b-5af773245278",
   "metadata": {},
   "source": [
    "Sprawdź czy przynajmniej jedna osoba jest staruchem (staruch > 35 lat)"
   ]
  },
  {
   "cell_type": "code",
   "execution_count": 47,
   "id": "86191703-7db1-41b5-baa0-f6d8e9421a48",
   "metadata": {},
   "outputs": [],
   "source": [
    "def is_olden_people(people):\n",
    "    for person in people:\n",
    "        if person['age'] > 35:\n",
    "            return True\n",
    "\n",
    "    return False"
   ]
  },
  {
   "cell_type": "code",
   "execution_count": 48,
   "id": "8a699360-2328-4bc8-8782-7b1011055bcf",
   "metadata": {},
   "outputs": [
    {
     "data": {
      "text/plain": [
       "True"
      ]
     },
     "execution_count": 48,
     "metadata": {},
     "output_type": "execute_result"
    }
   ],
   "source": [
    "is_olden_people(data)"
   ]
  },
  {
   "cell_type": "code",
   "execution_count": 50,
   "id": "8b084466-3d06-4099-8f6d-6a5b00f3c72c",
   "metadata": {},
   "outputs": [],
   "source": [
    "def is_olden_people_2(people):\n",
    "    return bool([person for person in people if person['age'] > 35])"
   ]
  },
  {
   "cell_type": "code",
   "execution_count": 51,
   "id": "55eb72bb-fa75-4a80-a104-f0ccf85e328f",
   "metadata": {},
   "outputs": [
    {
     "data": {
      "text/plain": [
       "True"
      ]
     },
     "execution_count": 51,
     "metadata": {},
     "output_type": "execute_result"
    }
   ],
   "source": [
    "is_olden_people_2(data)"
   ]
  },
  {
   "cell_type": "code",
   "execution_count": 52,
   "id": "e44356b4-5460-4e2b-b04c-a8d41894b566",
   "metadata": {},
   "outputs": [],
   "source": [
    "def is_olden_people_3(people):\n",
    "    return any(map(lambda person: person['age'] > 35, people))"
   ]
  },
  {
   "cell_type": "code",
   "execution_count": 53,
   "id": "e7ded575-ec60-4e9d-ad71-7519e82cda96",
   "metadata": {},
   "outputs": [
    {
     "data": {
      "text/plain": [
       "True"
      ]
     },
     "execution_count": 53,
     "metadata": {},
     "output_type": "execute_result"
    }
   ],
   "source": [
    "is_olden_people_3(data)"
   ]
  },
  {
   "cell_type": "markdown",
   "id": "7df4a1c4-ed31-4faf-9ebe-081bdb300c5d",
   "metadata": {},
   "source": [
    "Czy wszyscy są młodzi (młody człowiek to taki przed 20)"
   ]
  },
  {
   "cell_type": "code",
   "execution_count": 54,
   "id": "31b79832-acfe-4db4-8812-e13ec9f4845b",
   "metadata": {},
   "outputs": [],
   "source": [
    "\n",
    "def magic():\n",
    "    for element in data:\n",
    "        if element['age'] > 20:\n",
    "            return False\n",
    "    return True\n",
    "        \n",
    "        "
   ]
  },
  {
   "cell_type": "code",
   "execution_count": 55,
   "id": "af7dda14-20a2-4c70-ac50-5ed41b98a3f7",
   "metadata": {},
   "outputs": [
    {
     "data": {
      "text/plain": [
       "False"
      ]
     },
     "execution_count": 55,
     "metadata": {},
     "output_type": "execute_result"
    }
   ],
   "source": [
    "magic()"
   ]
  },
  {
   "cell_type": "code",
   "execution_count": 56,
   "id": "fb60a618-e462-4398-920f-803dafafabd0",
   "metadata": {},
   "outputs": [],
   "source": [
    "def magic():\n",
    "    return all(map(lambda person: person['age'] < 20, data))"
   ]
  },
  {
   "cell_type": "code",
   "execution_count": 57,
   "id": "3c482850-c774-459e-8e62-45d88253f471",
   "metadata": {},
   "outputs": [
    {
     "data": {
      "text/plain": [
       "False"
      ]
     },
     "execution_count": 57,
     "metadata": {},
     "output_type": "execute_result"
    }
   ],
   "source": [
    "magic()"
   ]
  },
  {
   "cell_type": "markdown",
   "id": "eaf457bd-1b08-4bee-b50c-9e6de0da8240",
   "metadata": {},
   "source": [
    "Ile jest unikalnych hobby"
   ]
  },
  {
   "cell_type": "code",
   "execution_count": 76,
   "id": "3eb53c61-7915-40ef-bd8a-6a5dabf90d95",
   "metadata": {},
   "outputs": [],
   "source": [
    "def magic():\n",
    "    all_hobbies = set()\n",
    "\n",
    "    for item in data:\n",
    "        all_hobbies |= set(item[\"hobbies\"])\n",
    "\n",
    "    return all_hobbies"
   ]
  },
  {
   "cell_type": "code",
   "execution_count": 77,
   "id": "c950c48c-d301-401d-8a4c-a82acedef26d",
   "metadata": {},
   "outputs": [
    {
     "data": {
      "text/plain": [
       "{'Cycling',\n",
       " 'Home Beer brewing',\n",
       " 'Learning new things',\n",
       " 'anime',\n",
       " 'art',\n",
       " 'bjj',\n",
       " 'boardgames',\n",
       " 'books',\n",
       " 'climbing',\n",
       " 'coding',\n",
       " 'crypto',\n",
       " 'culinary',\n",
       " 'drugs',\n",
       " 'filmy',\n",
       " 'football',\n",
       " 'godot',\n",
       " 'gry',\n",
       " 'jogging',\n",
       " 'js',\n",
       " 'literature',\n",
       " 'mangi',\n",
       " 'math',\n",
       " 'movies',\n",
       " 'music',\n",
       " 'muzyka',\n",
       " 'photography',\n",
       " 'plants',\n",
       " 'python',\n",
       " 'running',\n",
       " 'sport',\n",
       " 'squash',\n",
       " 'traveling',\n",
       " 'trips',\n",
       " 'work'}"
      ]
     },
     "execution_count": 77,
     "metadata": {},
     "output_type": "execute_result"
    }
   ],
   "source": [
    "magic()"
   ]
  },
  {
   "cell_type": "code",
   "execution_count": 89,
   "id": "9af8ea0d-8536-4281-a9ac-abc8f5113922",
   "metadata": {},
   "outputs": [],
   "source": [
    "def magic():\n",
    "    return {hobby for person in data for hobby in person['hobbies']}"
   ]
  },
  {
   "cell_type": "code",
   "execution_count": 90,
   "id": "73dc39fe-7539-4e99-aa55-25d667d7b713",
   "metadata": {},
   "outputs": [
    {
     "data": {
      "text/plain": [
       "{'Cycling',\n",
       " 'Home Beer brewing',\n",
       " 'Learning new things',\n",
       " 'anime',\n",
       " 'art',\n",
       " 'bjj',\n",
       " 'boardgames',\n",
       " 'books',\n",
       " 'climbing',\n",
       " 'coding',\n",
       " 'crypto',\n",
       " 'culinary',\n",
       " 'drugs',\n",
       " 'filmy',\n",
       " 'football',\n",
       " 'godot',\n",
       " 'gry',\n",
       " 'jogging',\n",
       " 'js',\n",
       " 'literature',\n",
       " 'mangi',\n",
       " 'math',\n",
       " 'movies',\n",
       " 'music',\n",
       " 'muzyka',\n",
       " 'photography',\n",
       " 'plants',\n",
       " 'python',\n",
       " 'running',\n",
       " 'sport',\n",
       " 'squash',\n",
       " 'traveling',\n",
       " 'trips',\n",
       " 'work'}"
      ]
     },
     "execution_count": 90,
     "metadata": {},
     "output_type": "execute_result"
    }
   ],
   "source": [
    "magic()"
   ]
  },
  {
   "cell_type": "code",
   "execution_count": 91,
   "id": "8190ed41-d672-4246-aa0d-e62e96b9ba65",
   "metadata": {},
   "outputs": [],
   "source": [
    "from functools import reduce"
   ]
  },
  {
   "cell_type": "code",
   "execution_count": 95,
   "id": "7edf4dd5-fa50-403a-88af-49cc95699e4e",
   "metadata": {},
   "outputs": [
    {
     "data": {
      "text/plain": [
       "{'Cycling',\n",
       " 'Home Beer brewing',\n",
       " 'Learning new things',\n",
       " 'anime',\n",
       " 'art',\n",
       " 'bjj',\n",
       " 'boardgames',\n",
       " 'books',\n",
       " 'climbing',\n",
       " 'coding',\n",
       " 'crypto',\n",
       " 'culinary',\n",
       " 'drugs',\n",
       " 'filmy',\n",
       " 'football',\n",
       " 'godot',\n",
       " 'gry',\n",
       " 'jogging',\n",
       " 'js',\n",
       " 'literature',\n",
       " 'mangi',\n",
       " 'math',\n",
       " 'movies',\n",
       " 'music',\n",
       " 'muzyka',\n",
       " 'photography',\n",
       " 'plants',\n",
       " 'python',\n",
       " 'running',\n",
       " 'sport',\n",
       " 'squash',\n",
       " 'traveling',\n",
       " 'trips',\n",
       " 'work'}"
      ]
     },
     "execution_count": 95,
     "metadata": {},
     "output_type": "execute_result"
    }
   ],
   "source": [
    "reduce(lambda acc, ce: acc | set(ce['hobbies']), data, set())"
   ]
  },
  {
   "cell_type": "code",
   "execution_count": 96,
   "id": "60768dd5-e2d2-4a71-b3aa-cc59a150033d",
   "metadata": {},
   "outputs": [],
   "source": [
    "x = [1, 2, 3, 4]"
   ]
  },
  {
   "cell_type": "code",
   "execution_count": 97,
   "id": "b5e496ae-91d9-4d17-ab7b-2987f93b27be",
   "metadata": {},
   "outputs": [
    {
     "data": {
      "text/plain": [
       "10"
      ]
     },
     "execution_count": 97,
     "metadata": {},
     "output_type": "execute_result"
    }
   ],
   "source": [
    "reduce(lambda acc, ce: acc + ce, x, 10)"
   ]
  },
  {
   "cell_type": "markdown",
   "id": "fa39e1ab-98e1-4aa6-bd96-2c7184952cc6",
   "metadata": {},
   "source": [
    "Napisz dataset (minimum 2 poziomy) na temat, który kochasz, i napisz do niego 3 pytania. Wyślij na slacku, pozostałe osoby mają 24h na zrobienie. Tylko jedna osoba dziennie może wysłać dataset, i nie może być przerw. 10 dni styka, aby być ekspertem."
   ]
  },
  {
   "cell_type": "code",
   "execution_count": 102,
   "id": "1abfc18d-74e0-47fd-9d02-75b9a4e047b0",
   "metadata": {},
   "outputs": [
    {
     "name": "stdout",
     "output_type": "stream",
     "text": [
      "1. Kamil\n",
      "2. Szymon\n",
      "3. Mateusz\n",
      "4. Piotr\n",
      "5. Dawid\n",
      "6. Aleksandra\n",
      "7. Renata\n",
      "8. Lukasz\n",
      "9. Bartek\n",
      "10. Igor\n",
      "11. Magda\n",
      "12. Karol\n",
      "13. Pawel\n"
     ]
    }
   ],
   "source": [
    "print(\"\\n\".join([f'{idx}. {person['name'].title()}' for idx, person in enumerate(data)][1:]))"
   ]
  },
  {
   "cell_type": "code",
   "execution_count": null,
   "id": "604bd79d-fd99-4f0b-8ec4-2be71183ae33",
   "metadata": {},
   "outputs": [],
   "source": []
  }
 ],
 "metadata": {
  "kernelspec": {
   "display_name": "Python 3 (ipykernel)",
   "language": "python",
   "name": "python3"
  },
  "language_info": {
   "codemirror_mode": {
    "name": "ipython",
    "version": 3
   },
   "file_extension": ".py",
   "mimetype": "text/x-python",
   "name": "python",
   "nbconvert_exporter": "python",
   "pygments_lexer": "ipython3",
   "version": "3.12.3"
  }
 },
 "nbformat": 4,
 "nbformat_minor": 5
}
