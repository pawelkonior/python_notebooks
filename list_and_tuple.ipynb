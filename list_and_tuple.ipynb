{
 "cells": [
  {
   "cell_type": "markdown",
   "id": "46a88bb1-9d8c-48b7-b878-f94b0989a43b",
   "metadata": {},
   "source": [
    "# List\n",
    "\n",
    "1. Kolekcja\n",
    "2. Uporządkowana\n",
    "3. Heterogeniczna\n",
    "4. Modyfikowalna (mutable)\n",
    "5. Sequence -> slicing\n",
    "\n",
    "```python\n",
    "\n",
    "x = [1, 2, 3]\n",
    "type(x)  # list\n",
    "\n",
    "# list(iterable)\n",
    "\n",
    "```\n",
    "\n",
    "---"
   ]
  },
  {
   "cell_type": "code",
   "execution_count": 1,
   "id": "c063f7cb-a026-4528-8212-8e22044cb3c9",
   "metadata": {},
   "outputs": [
    {
     "data": {
      "text/plain": [
       "list"
      ]
     },
     "execution_count": 1,
     "metadata": {},
     "output_type": "execute_result"
    }
   ],
   "source": [
    "x = [1, 2, 3]\n",
    "type(x)"
   ]
  },
  {
   "cell_type": "code",
   "execution_count": 2,
   "id": "b671a965-1174-43e5-8a2d-b042316cbb32",
   "metadata": {},
   "outputs": [
    {
     "data": {
      "text/plain": [
       "['a', 'l', 'a', ' ', 'm', 'a', ' ', 'k', 'o', 't', 'a']"
      ]
     },
     "execution_count": 2,
     "metadata": {},
     "output_type": "execute_result"
    }
   ],
   "source": [
    "list(\"ala ma kota\")"
   ]
  },
  {
   "cell_type": "code",
   "execution_count": 4,
   "id": "b6f0ac49-6ce4-4789-a739-b4c80e383729",
   "metadata": {},
   "outputs": [
    {
     "data": {
      "text/plain": [
       "[9, 8, 7, 6, 5, 4, 3, 2, 1, 0]"
      ]
     },
     "execution_count": 4,
     "metadata": {},
     "output_type": "execute_result"
    }
   ],
   "source": [
    "list(range(10))\n",
    "list(range(9, -1, -1))"
   ]
  },
  {
   "cell_type": "code",
   "execution_count": 5,
   "id": "39888c37-410e-45b3-9801-afe3fa9d8f19",
   "metadata": {},
   "outputs": [
    {
     "data": {
      "text/plain": [
       "['__add__',\n",
       " '__class__',\n",
       " '__class_getitem__',\n",
       " '__contains__',\n",
       " '__delattr__',\n",
       " '__delitem__',\n",
       " '__dir__',\n",
       " '__doc__',\n",
       " '__eq__',\n",
       " '__format__',\n",
       " '__ge__',\n",
       " '__getattribute__',\n",
       " '__getitem__',\n",
       " '__getstate__',\n",
       " '__gt__',\n",
       " '__hash__',\n",
       " '__iadd__',\n",
       " '__imul__',\n",
       " '__init__',\n",
       " '__init_subclass__',\n",
       " '__iter__',\n",
       " '__le__',\n",
       " '__len__',\n",
       " '__lt__',\n",
       " '__mul__',\n",
       " '__ne__',\n",
       " '__new__',\n",
       " '__reduce__',\n",
       " '__reduce_ex__',\n",
       " '__repr__',\n",
       " '__reversed__',\n",
       " '__rmul__',\n",
       " '__setattr__',\n",
       " '__setitem__',\n",
       " '__sizeof__',\n",
       " '__str__',\n",
       " '__subclasshook__',\n",
       " 'append',\n",
       " 'clear',\n",
       " 'copy',\n",
       " 'count',\n",
       " 'extend',\n",
       " 'index',\n",
       " 'insert',\n",
       " 'pop',\n",
       " 'remove',\n",
       " 'reverse',\n",
       " 'sort']"
      ]
     },
     "execution_count": 5,
     "metadata": {},
     "output_type": "execute_result"
    }
   ],
   "source": [
    "dir([])"
   ]
  },
  {
   "cell_type": "code",
   "execution_count": 6,
   "id": "c168ba0d-f755-4ea8-9cdc-c206cb1792d7",
   "metadata": {},
   "outputs": [
    {
     "data": {
      "text/plain": [
       "[1, 2, 3, 42]"
      ]
     },
     "execution_count": 6,
     "metadata": {},
     "output_type": "execute_result"
    }
   ],
   "source": [
    "x.append(42)\n",
    "x"
   ]
  },
  {
   "cell_type": "code",
   "execution_count": 7,
   "id": "e848d82b-488c-4ccc-8969-4bda6cad3574",
   "metadata": {},
   "outputs": [
    {
     "data": {
      "text/plain": [
       "[1, 2, 3, 42]"
      ]
     },
     "execution_count": 7,
     "metadata": {},
     "output_type": "execute_result"
    }
   ],
   "source": [
    "z = x.copy()\n",
    "z"
   ]
  },
  {
   "cell_type": "code",
   "execution_count": 8,
   "id": "071f4315-05dd-4795-aef2-4ea9c80dc8f5",
   "metadata": {},
   "outputs": [
    {
     "data": {
      "text/plain": [
       "1"
      ]
     },
     "execution_count": 8,
     "metadata": {},
     "output_type": "execute_result"
    }
   ],
   "source": [
    "x.count(42)"
   ]
  },
  {
   "cell_type": "code",
   "execution_count": 9,
   "id": "63535100-4634-4fd3-b771-8fc46e4c1bd2",
   "metadata": {},
   "outputs": [
    {
     "data": {
      "text/plain": [
       "0"
      ]
     },
     "execution_count": 9,
     "metadata": {},
     "output_type": "execute_result"
    }
   ],
   "source": [
    "x.count(2137)"
   ]
  },
  {
   "cell_type": "code",
   "execution_count": 10,
   "id": "c7fd354b-5b67-4183-8ffe-68bd57802aa6",
   "metadata": {},
   "outputs": [
    {
     "name": "stdout",
     "output_type": "stream",
     "text": [
      "Help on built-in function count:\n",
      "\n",
      "count(value, /) method of builtins.list instance\n",
      "    Return number of occurrences of value.\n",
      "\n"
     ]
    }
   ],
   "source": [
    "help(x.count)"
   ]
  },
  {
   "cell_type": "code",
   "execution_count": 11,
   "id": "c7b4050d-cf03-44e1-8518-67c28fb9bbf0",
   "metadata": {},
   "outputs": [
    {
     "data": {
      "text/plain": [
       "[1, 2, 3, 42, 1, 2, 3, 4]"
      ]
     },
     "execution_count": 11,
     "metadata": {},
     "output_type": "execute_result"
    }
   ],
   "source": [
    "x.extend([1, 2, 3, 4])\n",
    "x"
   ]
  },
  {
   "cell_type": "code",
   "execution_count": 12,
   "id": "f07f283f-52b4-4e5c-b0cb-5d3bacc748c7",
   "metadata": {},
   "outputs": [
    {
     "data": {
      "text/plain": [
       "3"
      ]
     },
     "execution_count": 12,
     "metadata": {},
     "output_type": "execute_result"
    }
   ],
   "source": [
    "x.index(42)"
   ]
  },
  {
   "cell_type": "code",
   "execution_count": 13,
   "id": "b0de182a-4ba9-4841-9e26-cccd804b3f3b",
   "metadata": {},
   "outputs": [
    {
     "data": {
      "text/plain": [
       "2"
      ]
     },
     "execution_count": 13,
     "metadata": {},
     "output_type": "execute_result"
    }
   ],
   "source": [
    "x.index(3)"
   ]
  },
  {
   "cell_type": "code",
   "execution_count": 15,
   "id": "d9797f7d-27ae-46a3-8c49-01d39b4b81d4",
   "metadata": {},
   "outputs": [
    {
     "data": {
      "text/plain": [
       "[666, 1, 2, 3, 42, 1, 2, 3, 4, 0]"
      ]
     },
     "execution_count": 15,
     "metadata": {},
     "output_type": "execute_result"
    }
   ],
   "source": [
    "x.insert(0, 666)\n",
    "x"
   ]
  },
  {
   "cell_type": "code",
   "execution_count": 16,
   "id": "b94a69b0-86de-4c3d-b3e4-415db8c90f60",
   "metadata": {},
   "outputs": [
    {
     "data": {
      "text/plain": [
       "0"
      ]
     },
     "execution_count": 16,
     "metadata": {},
     "output_type": "execute_result"
    }
   ],
   "source": [
    "x.pop()"
   ]
  },
  {
   "cell_type": "code",
   "execution_count": 17,
   "id": "fcb8736c-a310-412f-95c3-e6dcc184a544",
   "metadata": {},
   "outputs": [],
   "source": [
    "x.remove(42)\n"
   ]
  },
  {
   "cell_type": "code",
   "execution_count": 18,
   "id": "f132f575-dd30-47b1-bdaa-f52f50f2834b",
   "metadata": {},
   "outputs": [
    {
     "data": {
      "text/plain": [
       "[666, 1, 2, 3, 1, 2, 3, 4]"
      ]
     },
     "execution_count": 18,
     "metadata": {},
     "output_type": "execute_result"
    }
   ],
   "source": [
    "x"
   ]
  },
  {
   "cell_type": "code",
   "execution_count": 19,
   "id": "a2ac4ffa-e668-48a6-b452-3c16706de3ef",
   "metadata": {},
   "outputs": [
    {
     "data": {
      "text/plain": [
       "[4, 3, 2, 1, 3, 2, 1, 666]"
      ]
     },
     "execution_count": 19,
     "metadata": {},
     "output_type": "execute_result"
    }
   ],
   "source": [
    "x.reverse()\n",
    "x"
   ]
  },
  {
   "cell_type": "code",
   "execution_count": 20,
   "id": "83a929ef-2885-426e-9eee-c8f33cc3ccae",
   "metadata": {},
   "outputs": [
    {
     "data": {
      "text/plain": [
       "[666, 1, 2, 3, 1, 2, 3, 4]"
      ]
     },
     "execution_count": 20,
     "metadata": {},
     "output_type": "execute_result"
    }
   ],
   "source": [
    "x[::-1]"
   ]
  },
  {
   "cell_type": "code",
   "execution_count": 21,
   "id": "3316a23f-f614-46da-8ddf-c3d7848250ba",
   "metadata": {},
   "outputs": [
    {
     "data": {
      "text/plain": [
       "[1, 1, 2, 2, 3, 3, 4, 666]"
      ]
     },
     "execution_count": 21,
     "metadata": {},
     "output_type": "execute_result"
    }
   ],
   "source": [
    "x.sort()\n",
    "x"
   ]
  },
  {
   "cell_type": "markdown",
   "id": "d24601c9-07a3-4c4f-add4-828f9b586db9",
   "metadata": {},
   "source": [
    "### Copy with reference"
   ]
  },
  {
   "cell_type": "code",
   "execution_count": 31,
   "id": "c473a12c-e50a-4eca-930d-26e2781ec239",
   "metadata": {},
   "outputs": [
    {
     "name": "stdout",
     "output_type": "stream",
     "text": [
      "[[2137, 2], [3, 4]] [[2137, 2], [3, 4]] [[2137, 2], [3, 4]]\n"
     ]
    }
   ],
   "source": [
    "x = [[1, 2], [3, 4]]\n",
    "\n",
    "y = x\n",
    "# print(x == y, x is y)\n",
    "x[0][0] = 42\n",
    "# print(x, y)\n",
    "\n",
    "z = x.copy()\n",
    "# print(x == z, x is z)\n",
    "z[0][0] = 666\n",
    "# print(z, x, y)\n",
    "\n",
    "z[0] = [2137, 2137]\n",
    "# print(z, x, y)"
   ]
  },
  {
   "cell_type": "markdown",
   "id": "64f7c833-3f4b-49ae-8677-e943788acf9a",
   "metadata": {},
   "source": [
    "# Tuple\n",
    "\n",
    "1. Kolekcja\n",
    "2. Uporządkowana\n",
    "3. Heterogeniczna\n",
    "4. Niemodyfikowalna (immutable)\n",
    "\n",
    "5. Sequence -> slicing\n",
    "\n",
    "```python\n",
    "\n",
    "x = (1, 2, 3)\n",
    "type(x)  # tuple\n",
    "\n",
    "# tuple(iterable)\n",
    "\n",
    "```"
   ]
  },
  {
   "cell_type": "code",
   "execution_count": 32,
   "id": "943a05bd-f54f-4c5b-9f41-c50383b665b4",
   "metadata": {},
   "outputs": [
    {
     "data": {
      "text/plain": [
       "tuple"
      ]
     },
     "execution_count": 32,
     "metadata": {},
     "output_type": "execute_result"
    }
   ],
   "source": [
    "x = (1, 2, 3)\n",
    "type(x)"
   ]
  },
  {
   "cell_type": "code",
   "execution_count": 36,
   "id": "c60551eb-544a-4270-bcf2-9918f5bbcbbb",
   "metadata": {},
   "outputs": [
    {
     "data": {
      "text/plain": [
       "tuple"
      ]
     },
     "execution_count": 36,
     "metadata": {},
     "output_type": "execute_result"
    }
   ],
   "source": [
    "# tuple jednoelementowy (trailing comma)\n",
    "y = (1,)\n",
    "type(y)"
   ]
  },
  {
   "cell_type": "code",
   "execution_count": 38,
   "id": "516acb1d-7cb8-4190-abaf-43fbdcf3aeb3",
   "metadata": {},
   "outputs": [
    {
     "data": {
      "text/plain": [
       "tuple"
      ]
     },
     "execution_count": 38,
     "metadata": {},
     "output_type": "execute_result"
    }
   ],
   "source": [
    "# tuple zeroelementowy\n",
    "z = tuple()\n",
    "type(z)"
   ]
  },
  {
   "cell_type": "code",
   "execution_count": 39,
   "id": "c03e7039-ddf2-4ba3-ad52-1ffd21e69f23",
   "metadata": {},
   "outputs": [
    {
     "data": {
      "text/plain": [
       "('a', 'l', 'a', ' ', 'm', 'a', ' ', 'k', 'o', 't', 'a')"
      ]
     },
     "execution_count": 39,
     "metadata": {},
     "output_type": "execute_result"
    }
   ],
   "source": [
    "tuple(\"ala ma kota\")"
   ]
  },
  {
   "cell_type": "code",
   "execution_count": 41,
   "id": "edbc4e04-0449-4c17-8f4e-eba3b5d1f680",
   "metadata": {},
   "outputs": [
    {
     "data": {
      "text/plain": [
       "['__add__',\n",
       " '__class__',\n",
       " '__class_getitem__',\n",
       " '__contains__',\n",
       " '__delattr__',\n",
       " '__dir__',\n",
       " '__doc__',\n",
       " '__eq__',\n",
       " '__format__',\n",
       " '__ge__',\n",
       " '__getattribute__',\n",
       " '__getitem__',\n",
       " '__getnewargs__',\n",
       " '__getstate__',\n",
       " '__gt__',\n",
       " '__hash__',\n",
       " '__init__',\n",
       " '__init_subclass__',\n",
       " '__iter__',\n",
       " '__le__',\n",
       " '__len__',\n",
       " '__lt__',\n",
       " '__mul__',\n",
       " '__ne__',\n",
       " '__new__',\n",
       " '__reduce__',\n",
       " '__reduce_ex__',\n",
       " '__repr__',\n",
       " '__rmul__',\n",
       " '__setattr__',\n",
       " '__sizeof__',\n",
       " '__str__',\n",
       " '__subclasshook__',\n",
       " 'count',\n",
       " 'index']"
      ]
     },
     "execution_count": 41,
     "metadata": {},
     "output_type": "execute_result"
    }
   ],
   "source": [
    "dir(tuple())"
   ]
  },
  {
   "cell_type": "markdown",
   "id": "b2d6d574-da39-4edf-832d-cb5e45d0a08b",
   "metadata": {},
   "source": [
    "## Tuple packing, tuple unpacking"
   ]
  },
  {
   "cell_type": "code",
   "execution_count": 42,
   "id": "3b1df70a-43ed-4603-9ed9-ba6735417d49",
   "metadata": {},
   "outputs": [
    {
     "name": "stdout",
     "output_type": "stream",
     "text": [
      "(1, 2, 3, 4) <class 'tuple'>\n"
     ]
    }
   ],
   "source": [
    "x = 1, 2, 3, 4\n",
    "print(x, type(x))"
   ]
  },
  {
   "cell_type": "code",
   "execution_count": 43,
   "id": "a35b0c64-3c0b-402c-a56b-221cccc85077",
   "metadata": {},
   "outputs": [],
   "source": [
    "a, b, c = (1, 2, 3)"
   ]
  },
  {
   "cell_type": "code",
   "execution_count": 45,
   "id": "f9b8695a-7c17-4623-8607-34a4f4ffea55",
   "metadata": {},
   "outputs": [
    {
     "name": "stdout",
     "output_type": "stream",
     "text": [
      "1 2 3\n"
     ]
    }
   ],
   "source": [
    "print(a, b, c)"
   ]
  },
  {
   "cell_type": "code",
   "execution_count": 46,
   "id": "75ecc182-7093-4e6a-8fdd-303cf0f00142",
   "metadata": {},
   "outputs": [],
   "source": [
    "x = 0\n",
    "y = 1"
   ]
  },
  {
   "cell_type": "code",
   "execution_count": 48,
   "id": "be3a5d66-00db-441f-90d3-acf211cd12a9",
   "metadata": {},
   "outputs": [
    {
     "name": "stdout",
     "output_type": "stream",
     "text": [
      "0 1\n"
     ]
    }
   ],
   "source": [
    "x, y = y, x\n",
    "print(x, y)"
   ]
  },
  {
   "cell_type": "code",
   "execution_count": 49,
   "id": "96923754-6bea-4dd5-b9f7-32505cbb9c30",
   "metadata": {},
   "outputs": [
    {
     "name": "stdout",
     "output_type": "stream",
     "text": [
      "1 0\n"
     ]
    }
   ],
   "source": [
    "z = x\n",
    "x = y\n",
    "y = z\n",
    "\n",
    "print(x, y)"
   ]
  },
  {
   "cell_type": "code",
   "execution_count": 51,
   "id": "2f0f908d-7514-40e2-bb23-eb000a9977e5",
   "metadata": {},
   "outputs": [
    {
     "data": {
      "text/plain": [
       "(1, 2, 3, 4, 5, 6, 8, 9)"
      ]
     },
     "execution_count": 51,
     "metadata": {},
     "output_type": "execute_result"
    }
   ],
   "source": [
    "x = (1, 2, 3, 4, 5, 6, 8, 9)\n",
    "x"
   ]
  },
  {
   "cell_type": "code",
   "execution_count": 53,
   "id": "a5f24b74-9d0a-47ab-9c0b-b9c0db28aaca",
   "metadata": {},
   "outputs": [],
   "source": [
    "a, b, c, *rest = x"
   ]
  },
  {
   "cell_type": "code",
   "execution_count": 54,
   "id": "a55bc541-1c82-4b7c-b4b8-882fb785f49c",
   "metadata": {},
   "outputs": [
    {
     "data": {
      "text/plain": [
       "[4, 5, 6, 8, 9]"
      ]
     },
     "execution_count": 54,
     "metadata": {},
     "output_type": "execute_result"
    }
   ],
   "source": [
    "rest"
   ]
  },
  {
   "cell_type": "code",
   "execution_count": 55,
   "id": "e844ca79-ad7a-4602-85c7-e1f04aa8aa87",
   "metadata": {},
   "outputs": [],
   "source": [
    "*rest, q, w, e = x"
   ]
  },
  {
   "cell_type": "code",
   "execution_count": 56,
   "id": "46aeb74e-f31d-49b5-a551-99edfd06c1ee",
   "metadata": {},
   "outputs": [
    {
     "data": {
      "text/plain": [
       "[1, 2, 3, 4, 5]"
      ]
     },
     "execution_count": 56,
     "metadata": {},
     "output_type": "execute_result"
    }
   ],
   "source": [
    "rest"
   ]
  },
  {
   "cell_type": "code",
   "execution_count": 57,
   "id": "69296a85-7a1f-4003-b36b-26f7059f1b56",
   "metadata": {},
   "outputs": [],
   "source": [
    "a, *yolo, q, w = x"
   ]
  },
  {
   "cell_type": "code",
   "execution_count": 58,
   "id": "c1084616-3c6f-4bf3-b173-979a2faea6c6",
   "metadata": {},
   "outputs": [
    {
     "data": {
      "text/plain": [
       "[2, 3, 4, 5, 6]"
      ]
     },
     "execution_count": 58,
     "metadata": {},
     "output_type": "execute_result"
    }
   ],
   "source": [
    "yolo"
   ]
  },
  {
   "cell_type": "code",
   "execution_count": 59,
   "id": "0583cb05-b0f7-4c54-9a03-193dbdd93f50",
   "metadata": {},
   "outputs": [
    {
     "name": "stdout",
     "output_type": "stream",
     "text": [
      "a l a [' ', 'm', 'a', ' ', 'k', 'o', 't', 'a']\n"
     ]
    }
   ],
   "source": [
    "a, b, c, *letters = 'ala ma kota'\n",
    "print(a, b, c, letters)"
   ]
  },
  {
   "cell_type": "code",
   "execution_count": 60,
   "id": "1b819fc0-3c73-41f2-b74e-73a9dee31589",
   "metadata": {},
   "outputs": [
    {
     "name": "stdout",
     "output_type": "stream",
     "text": [
      "1 2 3\n"
     ]
    }
   ],
   "source": [
    "a, b, c = [1, 2, 3]\n",
    "print(a, b, c)"
   ]
  },
  {
   "cell_type": "code",
   "execution_count": null,
   "id": "001faad7-38a8-4a0c-99af-237afc2f9284",
   "metadata": {},
   "outputs": [],
   "source": []
  }
 ],
 "metadata": {
  "kernelspec": {
   "display_name": "Python 3 (ipykernel)",
   "language": "python",
   "name": "python3"
  },
  "language_info": {
   "codemirror_mode": {
    "name": "ipython",
    "version": 3
   },
   "file_extension": ".py",
   "mimetype": "text/x-python",
   "name": "python",
   "nbconvert_exporter": "python",
   "pygments_lexer": "ipython3",
   "version": "3.12.3"
  }
 },
 "nbformat": 4,
 "nbformat_minor": 5
}
