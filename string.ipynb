{
 "cells": [
  {
   "cell_type": "markdown",
   "id": "0e51fa0f-c50b-42b3-aeb6-8541c126f35d",
   "metadata": {},
   "source": [
    "# String\n",
    "\n",
    "1. Kolekcja charpoints\n",
    "2. Uporządkowany (index)\n",
    "3. Homogeniczny (string w python składa się ze stringów)\n",
    "4. Nie modyfikowalny (immutable)\n",
    "\n",
    "```python\n",
    "\n",
    "x = \"ala ma kota\"\n",
    "type(x)  # str\n",
    "\n",
    "```\n",
    "\n",
    "---\n",
    "\n"
   ]
  },
  {
   "cell_type": "code",
   "execution_count": 1,
   "id": "9ecbeefc-8697-4419-8063-68f34af1e5b4",
   "metadata": {},
   "outputs": [],
   "source": [
    "sentence = \"ala ma kota\""
   ]
  },
  {
   "cell_type": "code",
   "execution_count": 3,
   "id": "09851cd3-f3f7-4786-952a-699521e33352",
   "metadata": {},
   "outputs": [
    {
     "data": {
      "text/plain": [
       "str"
      ]
     },
     "execution_count": 3,
     "metadata": {},
     "output_type": "execute_result"
    }
   ],
   "source": [
    "# type to metaklasa, która zwraca typ obiektu (typ danych)\n",
    "type(sentence)"
   ]
  },
  {
   "cell_type": "markdown",
   "id": "7bb7a52f-0212-41ae-82ea-95515e701f2b",
   "metadata": {},
   "source": [
    "dunder - portmanteau od słów double underscores. Konwencja oznaczania rzeczy wbudowanych do pythona (nisko poziomowych)"
   ]
  },
  {
   "cell_type": "code",
   "execution_count": 5,
   "id": "c82201f4-36a3-4aef-a50f-7686c9d58d31",
   "metadata": {},
   "outputs": [
    {
     "data": {
      "text/plain": [
       "['__add__',\n",
       " '__class__',\n",
       " '__contains__',\n",
       " '__delattr__',\n",
       " '__dir__',\n",
       " '__doc__',\n",
       " '__eq__',\n",
       " '__format__',\n",
       " '__ge__',\n",
       " '__getattribute__',\n",
       " '__getitem__',\n",
       " '__getnewargs__',\n",
       " '__getstate__',\n",
       " '__gt__',\n",
       " '__hash__',\n",
       " '__init__',\n",
       " '__init_subclass__',\n",
       " '__iter__',\n",
       " '__le__',\n",
       " '__len__',\n",
       " '__lt__',\n",
       " '__mod__',\n",
       " '__mul__',\n",
       " '__ne__',\n",
       " '__new__',\n",
       " '__reduce__',\n",
       " '__reduce_ex__',\n",
       " '__repr__',\n",
       " '__rmod__',\n",
       " '__rmul__',\n",
       " '__setattr__',\n",
       " '__sizeof__',\n",
       " '__str__',\n",
       " '__subclasshook__',\n",
       " 'capitalize',\n",
       " 'casefold',\n",
       " 'center',\n",
       " 'count',\n",
       " 'encode',\n",
       " 'endswith',\n",
       " 'expandtabs',\n",
       " 'find',\n",
       " 'format',\n",
       " 'format_map',\n",
       " 'index',\n",
       " 'isalnum',\n",
       " 'isalpha',\n",
       " 'isascii',\n",
       " 'isdecimal',\n",
       " 'isdigit',\n",
       " 'isidentifier',\n",
       " 'islower',\n",
       " 'isnumeric',\n",
       " 'isprintable',\n",
       " 'isspace',\n",
       " 'istitle',\n",
       " 'isupper',\n",
       " 'join',\n",
       " 'ljust',\n",
       " 'lower',\n",
       " 'lstrip',\n",
       " 'maketrans',\n",
       " 'partition',\n",
       " 'removeprefix',\n",
       " 'removesuffix',\n",
       " 'replace',\n",
       " 'rfind',\n",
       " 'rindex',\n",
       " 'rjust',\n",
       " 'rpartition',\n",
       " 'rsplit',\n",
       " 'rstrip',\n",
       " 'split',\n",
       " 'splitlines',\n",
       " 'startswith',\n",
       " 'strip',\n",
       " 'swapcase',\n",
       " 'title',\n",
       " 'translate',\n",
       " 'upper',\n",
       " 'zfill']"
      ]
     },
     "execution_count": 5,
     "metadata": {},
     "output_type": "execute_result"
    }
   ],
   "source": [
    "# zwraca wszystkie metody obiektu (funkcjonalności)\n",
    "dir(sentence)"
   ]
  },
  {
   "cell_type": "code",
   "execution_count": 6,
   "id": "f9ba213e-f8d6-4bd6-ba67-ce2da9774d75",
   "metadata": {},
   "outputs": [
    {
     "data": {
      "text/plain": [
       "'ala ma kota'"
      ]
     },
     "execution_count": 6,
     "metadata": {},
     "output_type": "execute_result"
    }
   ],
   "source": [
    "sentence"
   ]
  },
  {
   "cell_type": "code",
   "execution_count": 7,
   "id": "30d35ac2-f6ce-412c-be7e-0213fd29a45a",
   "metadata": {},
   "outputs": [
    {
     "data": {
      "text/plain": [
       "'ALA MA KOTA'"
      ]
     },
     "execution_count": 7,
     "metadata": {},
     "output_type": "execute_result"
    }
   ],
   "source": [
    "sentence.upper()"
   ]
  },
  {
   "cell_type": "code",
   "execution_count": 8,
   "id": "6f8ce555-daad-4780-a479-4e36abacec7a",
   "metadata": {},
   "outputs": [
    {
     "data": {
      "text/plain": [
       "'ala ma kota'"
      ]
     },
     "execution_count": 8,
     "metadata": {},
     "output_type": "execute_result"
    }
   ],
   "source": [
    "sentence.lower()"
   ]
  },
  {
   "cell_type": "code",
   "execution_count": 9,
   "id": "4df4c9d2-8d59-4c74-8e58-d5a960fef634",
   "metadata": {},
   "outputs": [
    {
     "data": {
      "text/plain": [
       "'Ala ma kota'"
      ]
     },
     "execution_count": 9,
     "metadata": {},
     "output_type": "execute_result"
    }
   ],
   "source": [
    "sentence.capitalize()"
   ]
  },
  {
   "cell_type": "code",
   "execution_count": 10,
   "id": "793ea230-7f8a-4af9-9fc9-af9c76292f21",
   "metadata": {},
   "outputs": [
    {
     "data": {
      "text/plain": [
       "'Ala Ma Kota'"
      ]
     },
     "execution_count": 10,
     "metadata": {},
     "output_type": "execute_result"
    }
   ],
   "source": [
    "sentence.title()"
   ]
  },
  {
   "cell_type": "code",
   "execution_count": 11,
   "id": "0df10525-23f0-49c0-ba45-df7882602472",
   "metadata": {},
   "outputs": [
    {
     "data": {
      "text/plain": [
       "True"
      ]
     },
     "execution_count": 11,
     "metadata": {},
     "output_type": "execute_result"
    }
   ],
   "source": [
    "sentence.startswith('ala')"
   ]
  },
  {
   "cell_type": "code",
   "execution_count": 12,
   "id": "fe122b95-ed1c-4bc3-9e73-a21a0aa9629c",
   "metadata": {},
   "outputs": [
    {
     "data": {
      "text/plain": [
       "False"
      ]
     },
     "execution_count": 12,
     "metadata": {},
     "output_type": "execute_result"
    }
   ],
   "source": [
    "sentence.endswith('roman')"
   ]
  },
  {
   "cell_type": "code",
   "execution_count": 13,
   "id": "2de052c0-3fbc-48c4-8976-7d57ba11a45f",
   "metadata": {},
   "outputs": [
    {
     "data": {
      "text/plain": [
       "'roman ma kota'"
      ]
     },
     "execution_count": 13,
     "metadata": {},
     "output_type": "execute_result"
    }
   ],
   "source": [
    "sentence.replace('ala', 'roman')"
   ]
  },
  {
   "cell_type": "code",
   "execution_count": 14,
   "id": "3d0fcacf-6a28-4ad3-b86d-d220251563df",
   "metadata": {},
   "outputs": [
    {
     "data": {
      "text/plain": [
       "['a', 'l', 'a', ' ', 'm', 'a', ' ', 'k', 'o', 't', 'a']"
      ]
     },
     "execution_count": 14,
     "metadata": {},
     "output_type": "execute_result"
    }
   ],
   "source": [
    "list(sentence)"
   ]
  },
  {
   "cell_type": "code",
   "execution_count": 15,
   "id": "e687dc05-0860-48c0-bc19-adc7dcffb149",
   "metadata": {},
   "outputs": [
    {
     "data": {
      "text/plain": [
       "['ala', 'ma', 'kota']"
      ]
     },
     "execution_count": 15,
     "metadata": {},
     "output_type": "execute_result"
    }
   ],
   "source": [
    "sentence.split()"
   ]
  },
  {
   "cell_type": "code",
   "execution_count": 16,
   "id": "8ac88577-5ee2-4e3e-93e9-af7126d0c040",
   "metadata": {},
   "outputs": [
    {
     "data": {
      "text/plain": [
       "['ala ', ' kota']"
      ]
     },
     "execution_count": 16,
     "metadata": {},
     "output_type": "execute_result"
    }
   ],
   "source": [
    "sentence.split('ma')"
   ]
  },
  {
   "cell_type": "code",
   "execution_count": 17,
   "id": "d377efcd-3249-4b1b-942e-35a4a7c8c4bc",
   "metadata": {},
   "outputs": [],
   "source": [
    "words = ['ala', 'ma', 'kota']"
   ]
  },
  {
   "cell_type": "code",
   "execution_count": 22,
   "id": "fae1af7a-0b9c-40ca-8a21-e7a24d2aa534",
   "metadata": {},
   "outputs": [
    {
     "name": "stdout",
     "output_type": "stream",
     "text": [
      "ala\n",
      "ma\n",
      "kota\n"
     ]
    }
   ],
   "source": [
    "print('\\n'.join(words))"
   ]
  },
  {
   "cell_type": "code",
   "execution_count": 23,
   "id": "579f0f3d-c38b-4359-8a8c-80813900b197",
   "metadata": {},
   "outputs": [
    {
     "data": {
      "text/plain": [
       "False"
      ]
     },
     "execution_count": 23,
     "metadata": {},
     "output_type": "execute_result"
    }
   ],
   "source": [
    "\"yolo\".isdigit()"
   ]
  },
  {
   "cell_type": "code",
   "execution_count": 24,
   "id": "ffc9d670-61ab-442b-9e49-be6560ea5097",
   "metadata": {},
   "outputs": [
    {
     "data": {
      "text/plain": [
       "True"
      ]
     },
     "execution_count": 24,
     "metadata": {},
     "output_type": "execute_result"
    }
   ],
   "source": [
    "\"1234\".isdigit()"
   ]
  },
  {
   "cell_type": "markdown",
   "id": "ef63b74e-7604-4e11-9395-9f61c6b7dcde",
   "metadata": {},
   "source": [
    "## Slicing\n",
    "\n",
    "| a | l | a |   | m | a |\n",
    ":---:|:---:|:---:|:---:|:---:|:---:\n",
    "| 0 | 1 | 2 | 3 | 4 | 5 |\n",
    "| -6 | -5 | -4 | -3 | -2 | -1 |\n",
    "\n",
    "```python\n",
    "# start - przedział zamknięty\n",
    "# stop - przedział otwarty\n",
    "\n",
    "sentence[3]  # sentence[index]\n",
    "sentence[1:2] # sentence[start:stop]\n",
    "sentence[1:5:2]  # sentence[start:stop:step]\n",
    "\n",
    "```"
   ]
  },
  {
   "cell_type": "code",
   "execution_count": 25,
   "id": "3a31ed65-3325-4ff9-b706-a7ca9b6d0504",
   "metadata": {},
   "outputs": [
    {
     "data": {
      "text/plain": [
       "'ala ma kota'"
      ]
     },
     "execution_count": 25,
     "metadata": {},
     "output_type": "execute_result"
    }
   ],
   "source": [
    "sentence"
   ]
  },
  {
   "cell_type": "code",
   "execution_count": 27,
   "id": "25678ee2-2e40-498b-94f5-9ea0247e9ec1",
   "metadata": {},
   "outputs": [
    {
     "data": {
      "text/plain": [
       "'ala'"
      ]
     },
     "execution_count": 27,
     "metadata": {},
     "output_type": "execute_result"
    }
   ],
   "source": [
    "sentence[0:3]"
   ]
  },
  {
   "cell_type": "code",
   "execution_count": 28,
   "id": "18a4c09a-ac33-4625-8e72-b904f4202a53",
   "metadata": {},
   "outputs": [
    {
     "data": {
      "text/plain": [
       "'ala'"
      ]
     },
     "execution_count": 28,
     "metadata": {},
     "output_type": "execute_result"
    }
   ],
   "source": [
    "sentence[:3]"
   ]
  },
  {
   "cell_type": "code",
   "execution_count": 31,
   "id": "4caaf705-266e-453e-bd4d-1c665a2d3aca",
   "metadata": {},
   "outputs": [
    {
     "data": {
      "text/plain": [
       "'kota'"
      ]
     },
     "execution_count": 31,
     "metadata": {},
     "output_type": "execute_result"
    }
   ],
   "source": [
    "sentence[7:]"
   ]
  },
  {
   "cell_type": "code",
   "execution_count": 32,
   "id": "7c8487b3-ed6a-4491-8e21-3c5688d65f5c",
   "metadata": {},
   "outputs": [
    {
     "data": {
      "text/plain": [
       "'kota'"
      ]
     },
     "execution_count": 32,
     "metadata": {},
     "output_type": "execute_result"
    }
   ],
   "source": [
    "sentence[-4:]"
   ]
  },
  {
   "cell_type": "code",
   "execution_count": 33,
   "id": "313c9bb3-da61-45b7-a1fc-a8e5dd5cdfda",
   "metadata": {},
   "outputs": [
    {
     "data": {
      "text/plain": [
       "'aam oa'"
      ]
     },
     "execution_count": 33,
     "metadata": {},
     "output_type": "execute_result"
    }
   ],
   "source": [
    "sentence[::2]"
   ]
  },
  {
   "cell_type": "code",
   "execution_count": 34,
   "id": "51069de9-0930-44cb-8bf1-3ed06c79e009",
   "metadata": {},
   "outputs": [
    {
     "data": {
      "text/plain": [
       "'a  t'"
      ]
     },
     "execution_count": 34,
     "metadata": {},
     "output_type": "execute_result"
    }
   ],
   "source": [
    "sentence[::3]"
   ]
  },
  {
   "cell_type": "code",
   "execution_count": 35,
   "id": "91f69535-ab1b-4445-bb84-2e0b63675ef0",
   "metadata": {},
   "outputs": [
    {
     "data": {
      "text/plain": [
       "'atok am ala'"
      ]
     },
     "execution_count": 35,
     "metadata": {},
     "output_type": "execute_result"
    }
   ],
   "source": [
    "sentence[::-1]"
   ]
  },
  {
   "cell_type": "code",
   "execution_count": 36,
   "id": "8723f7f7-e56f-48cd-81a6-1eec82126cd4",
   "metadata": {},
   "outputs": [
    {
     "data": {
      "text/plain": [
       "'ala ma kota'"
      ]
     },
     "execution_count": 36,
     "metadata": {},
     "output_type": "execute_result"
    }
   ],
   "source": [
    "sentence"
   ]
  },
  {
   "cell_type": "code",
   "execution_count": 40,
   "id": "a1301e92-5a09-437e-bd65-99ea4bf170fb",
   "metadata": {},
   "outputs": [
    {
     "data": {
      "text/plain": [
       "'atok'"
      ]
     },
     "execution_count": 40,
     "metadata": {},
     "output_type": "execute_result"
    }
   ],
   "source": [
    "sentence[:6:-1]"
   ]
  },
  {
   "cell_type": "code",
   "execution_count": 41,
   "id": "59e75f65-9613-4848-8189-9caeefb43355",
   "metadata": {},
   "outputs": [
    {
     "data": {
      "text/plain": [
       "'atok'"
      ]
     },
     "execution_count": 41,
     "metadata": {},
     "output_type": "execute_result"
    }
   ],
   "source": [
    "sentence[-4:][::-1]"
   ]
  },
  {
   "cell_type": "code",
   "execution_count": null,
   "id": "efa22496-1606-4da0-9ad3-6d1ab602e943",
   "metadata": {},
   "outputs": [],
   "source": []
  }
 ],
 "metadata": {
  "kernelspec": {
   "display_name": "Python 3 (ipykernel)",
   "language": "python",
   "name": "python3"
  },
  "language_info": {
   "codemirror_mode": {
    "name": "ipython",
    "version": 3
   },
   "file_extension": ".py",
   "mimetype": "text/x-python",
   "name": "python",
   "nbconvert_exporter": "python",
   "pygments_lexer": "ipython3",
   "version": "3.12.3"
  }
 },
 "nbformat": 4,
 "nbformat_minor": 5
}
