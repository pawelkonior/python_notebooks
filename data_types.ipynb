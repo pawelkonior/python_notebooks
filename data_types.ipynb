{
 "cells": [
  {
   "cell_type": "markdown",
   "id": "ac97e16e-cf5c-4343-86ac-854911a5d23c",
   "metadata": {},
   "source": [
    "# Python typy danych\n",
    "\n",
    "1. bool - wartość logiczna\n",
    "2. int - liczba całkowita\n",
    "3. float - liczba zmiennoprzecinkowa\n",
    "4. complex - liczba urojona\n",
    "5. str - kolekcja charpoints (character - znak, point - punkt)\n",
    "6. list - kolekcja\n",
    "7. tuple - kolekcja (PL - krotka)\n",
    "8. set - zbiór unikalnych wartości\n",
    "9. dict - kolekcja par klucz wartość (PL - słownik)\n",
    "10. range - generator"
   ]
  },
  {
   "cell_type": "markdown",
   "id": "df3bab25-ff3f-4d29-8daf-5b17cbfdfdd4",
   "metadata": {},
   "source": [
    "## Bool\n",
    "\n",
    "- wartość logiczna\n",
    "- truthy/falsy values (dowolna wartość, która po skonwertowaniu na wartość logiczna da prawdę lub fałsz)\n",
    "- casting (jawna zmiana typu danych)\n",
    "- coercion (niejawna zmiana typu danych)\n",
    "\n",
    "```python\n",
    "\n",
    "x = True\n",
    "y = False\n",
    "type(x)  # bool\n",
    "\n",
    "```\n",
    "\n",
    "\n",
    "---\n",
    "\n",
    "Może się przydać:\n",
    "[Prawa De Morgana](https://pl.wikipedia.org/wiki/Prawa_De_Morgana)"
   ]
  },
  {
   "cell_type": "code",
   "execution_count": 1,
   "id": "dd8ee190-4046-4dfd-a1c6-9119fea7d7e8",
   "metadata": {},
   "outputs": [],
   "source": [
    "x = True"
   ]
  },
  {
   "cell_type": "code",
   "execution_count": 2,
   "id": "39b6aa3c-a080-431e-9630-169b9ddd67b9",
   "metadata": {},
   "outputs": [
    {
     "data": {
      "text/plain": [
       "bool"
      ]
     },
     "execution_count": 2,
     "metadata": {},
     "output_type": "execute_result"
    }
   ],
   "source": [
    "type(x)"
   ]
  },
  {
   "cell_type": "markdown",
   "id": "f24ab6e4-08c5-45c7-b0c4-67b07c684317",
   "metadata": {},
   "source": [
    "Liczby - 0 to False, inne od 0 to True, niezależnie jaki liczbowy typ danych "
   ]
  },
  {
   "cell_type": "code",
   "execution_count": 3,
   "id": "7b13be40-8acf-4b4e-876c-1692889fb2b8",
   "metadata": {},
   "outputs": [
    {
     "data": {
      "text/plain": [
       "False"
      ]
     },
     "execution_count": 3,
     "metadata": {},
     "output_type": "execute_result"
    }
   ],
   "source": [
    "bool(0)"
   ]
  },
  {
   "cell_type": "code",
   "execution_count": 4,
   "id": "db078d53-5cec-41d4-8a31-e42b44bac3e2",
   "metadata": {},
   "outputs": [
    {
     "data": {
      "text/plain": [
       "True"
      ]
     },
     "execution_count": 4,
     "metadata": {},
     "output_type": "execute_result"
    }
   ],
   "source": [
    "bool(42)"
   ]
  },
  {
   "cell_type": "code",
   "execution_count": 5,
   "id": "7d50b139-5055-4ea5-9478-068cdbcb9acf",
   "metadata": {},
   "outputs": [
    {
     "data": {
      "text/plain": [
       "False"
      ]
     },
     "execution_count": 5,
     "metadata": {},
     "output_type": "execute_result"
    }
   ],
   "source": [
    "bool(0.0000000000)"
   ]
  },
  {
   "cell_type": "code",
   "execution_count": 6,
   "id": "77814920-4599-4df7-a358-651058a17231",
   "metadata": {},
   "outputs": [
    {
     "data": {
      "text/plain": [
       "True"
      ]
     },
     "execution_count": 6,
     "metadata": {},
     "output_type": "execute_result"
    }
   ],
   "source": [
    "bool(0.00000000000000000000000001)"
   ]
  },
  {
   "cell_type": "markdown",
   "id": "7eae8566-73e9-4ab3-a26d-f5be449b9c1e",
   "metadata": {},
   "source": [
    "Kolekcje danych - puste to False, niepuste to True"
   ]
  },
  {
   "cell_type": "code",
   "execution_count": 7,
   "id": "bd62a1c9-d961-4aed-868b-715c8c992024",
   "metadata": {},
   "outputs": [
    {
     "data": {
      "text/plain": [
       "True"
      ]
     },
     "execution_count": 7,
     "metadata": {},
     "output_type": "execute_result"
    }
   ],
   "source": [
    "bool(\"ala\")"
   ]
  },
  {
   "cell_type": "code",
   "execution_count": 8,
   "id": "38e9c41d-6f04-4aaf-bb52-76c4ef08b00f",
   "metadata": {},
   "outputs": [
    {
     "data": {
      "text/plain": [
       "False"
      ]
     },
     "execution_count": 8,
     "metadata": {},
     "output_type": "execute_result"
    }
   ],
   "source": [
    "bool(\"\")"
   ]
  },
  {
   "cell_type": "code",
   "execution_count": 9,
   "id": "6a9f60f0-b913-40e9-8d58-695f212ea0c9",
   "metadata": {},
   "outputs": [
    {
     "data": {
      "text/plain": [
       "True"
      ]
     },
     "execution_count": 9,
     "metadata": {},
     "output_type": "execute_result"
    }
   ],
   "source": [
    "bool([1, 2, 3])"
   ]
  },
  {
   "cell_type": "code",
   "execution_count": 10,
   "id": "cb097f62-94d4-4f03-82b7-be618e68406d",
   "metadata": {},
   "outputs": [
    {
     "data": {
      "text/plain": [
       "False"
      ]
     },
     "execution_count": 10,
     "metadata": {},
     "output_type": "execute_result"
    }
   ],
   "source": [
    "bool([])"
   ]
  },
  {
   "cell_type": "code",
   "execution_count": 11,
   "id": "90cfe48c-9b33-4bf5-b3fe-fe12e83ec4a8",
   "metadata": {},
   "outputs": [
    {
     "data": {
      "text/plain": [
       "True"
      ]
     },
     "execution_count": 11,
     "metadata": {},
     "output_type": "execute_result"
    }
   ],
   "source": [
    "bool((1, 2, 3))"
   ]
  },
  {
   "cell_type": "code",
   "execution_count": 12,
   "id": "80665d3c-0321-4580-8b89-54127e312257",
   "metadata": {},
   "outputs": [
    {
     "data": {
      "text/plain": [
       "False"
      ]
     },
     "execution_count": 12,
     "metadata": {},
     "output_type": "execute_result"
    }
   ],
   "source": [
    "bool(tuple())"
   ]
  },
  {
   "cell_type": "code",
   "execution_count": 13,
   "id": "1ccf1b6d-2ec1-4fdf-9979-9376749f4d45",
   "metadata": {},
   "outputs": [
    {
     "data": {
      "text/plain": [
       "False"
      ]
     },
     "execution_count": 13,
     "metadata": {},
     "output_type": "execute_result"
    }
   ],
   "source": [
    "# None to jest nic, dlatego False\n",
    "bool(None)"
   ]
  },
  {
   "cell_type": "markdown",
   "id": "c8325cd2-6f55-4ba1-8dde-3e3fa20610b8",
   "metadata": {},
   "source": [
    "## Int - liczba całkowita\n",
    "\n",
    "1. Precyzja nieskończona, da się zapisać dowolną wielką liczbę całkowitą.\n",
    "\n",
    "\n",
    "```python\n",
    "\n",
    "x = 42\n",
    "type(x)  # int\n",
    "\n",
    "```\n",
    "\n",
    "---\n"
   ]
  },
  {
   "cell_type": "code",
   "execution_count": 14,
   "id": "bc0b0874-b40a-478c-a9c1-35abe2aac856",
   "metadata": {},
   "outputs": [],
   "source": [
    "x = 42"
   ]
  },
  {
   "cell_type": "code",
   "execution_count": 15,
   "id": "a591760b-395b-42b6-98d9-ecb84ba38e10",
   "metadata": {},
   "outputs": [
    {
     "data": {
      "text/plain": [
       "int"
      ]
     },
     "execution_count": 15,
     "metadata": {},
     "output_type": "execute_result"
    }
   ],
   "source": [
    "type(x)"
   ]
  },
  {
   "cell_type": "code",
   "execution_count": 16,
   "id": "60fab414-a982-4b5c-ba29-1040d8d6e247",
   "metadata": {},
   "outputs": [
    {
     "data": {
      "text/plain": [
       "104"
      ]
     },
     "execution_count": 16,
     "metadata": {},
     "output_type": "execute_result"
    }
   ],
   "source": [
    "# x = x + 10\n",
    "x += 10\n",
    "\n",
    "# x = x * 2\n",
    "x *= 2\n",
    "\n",
    "x"
   ]
  },
  {
   "cell_type": "code",
   "execution_count": 18,
   "id": "7c80356b-cbce-401f-8332-85694cbe3036",
   "metadata": {},
   "outputs": [
    {
     "data": {
      "text/plain": [
       "4"
      ]
     },
     "execution_count": 18,
     "metadata": {},
     "output_type": "execute_result"
    }
   ],
   "source": [
    "# remainder - reszta z dzielenia, (niektórzy nazywają to modulo)\n",
    "x % 10"
   ]
  },
  {
   "cell_type": "code",
   "execution_count": 20,
   "id": "19bff0c5-7307-4515-a061-3e5594216c48",
   "metadata": {},
   "outputs": [
    {
     "data": {
      "text/plain": [
       "8"
      ]
     },
     "execution_count": 20,
     "metadata": {},
     "output_type": "execute_result"
    }
   ],
   "source": [
    "# power\n",
    "2 ** 3"
   ]
  },
  {
   "cell_type": "markdown",
   "id": "b81edbd8-eff0-43a8-bbfb-e9ec6572d765",
   "metadata": {},
   "source": [
    "## Float - liczba zmiennoprzecinkowa\n",
    "\n",
    "1. precyzja double\n",
    "2. standard IEEE 754\n",
    "\n",
    "```python\n",
    "\n",
    "x = 4.2\n",
    "type(x)  # float\n",
    "\n",
    "```\n",
    "\n",
    "---\n"
   ]
  },
  {
   "cell_type": "code",
   "execution_count": 21,
   "id": "0af8dab6-7997-4fa6-8eb2-2e99d7fdbdd4",
   "metadata": {},
   "outputs": [],
   "source": [
    "x = 4.2"
   ]
  },
  {
   "cell_type": "code",
   "execution_count": 22,
   "id": "3c04bb9f-2849-43df-854a-098b2e48ce8a",
   "metadata": {},
   "outputs": [
    {
     "data": {
      "text/plain": [
       "float"
      ]
     },
     "execution_count": 22,
     "metadata": {},
     "output_type": "execute_result"
    }
   ],
   "source": [
    "type(x)"
   ]
  },
  {
   "cell_type": "code",
   "execution_count": null,
   "id": "3250a5a7-ab67-4e0c-bf55-56c9eed32089",
   "metadata": {},
   "outputs": [],
   "source": []
  }
 ],
 "metadata": {
  "kernelspec": {
   "display_name": "Python 3 (ipykernel)",
   "language": "python",
   "name": "python3"
  },
  "language_info": {
   "codemirror_mode": {
    "name": "ipython",
    "version": 3
   },
   "file_extension": ".py",
   "mimetype": "text/x-python",
   "name": "python",
   "nbconvert_exporter": "python",
   "pygments_lexer": "ipython3",
   "version": "3.12.3"
  }
 },
 "nbformat": 4,
 "nbformat_minor": 5
}
