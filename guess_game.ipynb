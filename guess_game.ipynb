{
 "cells": [
  {
   "cell_type": "markdown",
   "id": "a6c1b22d-1ef5-4ab2-b940-68094d015d3a",
   "metadata": {},
   "source": [
    "# Guess Game\n",
    "\n",
    "1. Użytkownik podaje 2 liczby tworząc zakres\n",
    "2. Komputer losuje liczbę z przedziału\n",
    "3. Użytkownik zgaduje liczbę\n",
    "4. Komputer mówi, mało, dużo, trafiłeś, wyświetla ile prób\n",
    "5. Czy grać ponownie?"
   ]
  },
  {
   "cell_type": "code",
   "execution_count": 7,
   "id": "111ca99b-278b-4a0c-a7a7-9b2bca4b4185",
   "metadata": {},
   "outputs": [
    {
     "name": "stdout",
     "output_type": "stream",
     "text": [
      "The Zen of Python, by Tim Peters\n",
      "\n",
      "Beautiful is better than ugly.\n",
      "Explicit is better than implicit.\n",
      "Simple is better than complex.\n",
      "Complex is better than complicated.\n",
      "Flat is better than nested.\n",
      "Sparse is better than dense.\n",
      "Readability counts.\n",
      "Special cases aren't special enough to break the rules.\n",
      "Although practicality beats purity.\n",
      "Errors should never pass silently.\n",
      "Unless explicitly silenced.\n",
      "In the face of ambiguity, refuse the temptation to guess.\n",
      "There should be one-- and preferably only one --obvious way to do it.\n",
      "Although that way may not be obvious at first unless you're Dutch.\n",
      "Now is better than never.\n",
      "Although never is often better than *right* now.\n",
      "If the implementation is hard to explain, it's a bad idea.\n",
      "If the implementation is easy to explain, it may be a good idea.\n",
      "Namespaces are one honking great idea -- let's do more of those!\n"
     ]
    }
   ],
   "source": [
    "import this"
   ]
  },
  {
   "cell_type": "code",
   "execution_count": 4,
   "id": "a672f4a0-ec50-4518-a639-0a3c46587b95",
   "metadata": {},
   "outputs": [
    {
     "name": "stdin",
     "output_type": "stream",
     "text": [
      "Podaj minimum:\n",
      " 30\n",
      "Podaj maximum:\n",
      " 40\n"
     ]
    },
    {
     "data": {
      "text/plain": [
       "'40'"
      ]
     },
     "execution_count": 4,
     "metadata": {},
     "output_type": "execute_result"
    }
   ],
   "source": [
    "input('Podaj minimum:\\n')\n",
    "input('Podaj maximum:\\n')"
   ]
  },
  {
   "cell_type": "code",
   "execution_count": 26,
   "id": "0245bb7f-510c-439b-adf4-37d79dd89872",
   "metadata": {},
   "outputs": [],
   "source": [
    "import random"
   ]
  },
  {
   "cell_type": "code",
   "execution_count": 21,
   "id": "94845b6a-6857-405a-8b89-9d860edb1dec",
   "metadata": {},
   "outputs": [],
   "source": [
    "# deskryptywne nazwy\n",
    "# single responsibility (funkcja robi jedną rzecz)\n",
    "# simple is better than complex\n",
    "\n",
    "def get_user_range():\n",
    "    digit_min = int(input('Podaj minimum:\\n'))\n",
    "    digit_max = int(input('Podaj maximum:\\n'))\n",
    "    \n",
    "    return digit_min, digit_max"
   ]
  },
  {
   "cell_type": "code",
   "execution_count": 25,
   "id": "a5ac6138-7039-4a32-b39e-e2dee825a304",
   "metadata": {},
   "outputs": [
    {
     "name": "stdin",
     "output_type": "stream",
     "text": [
      "Podaj minimum:\n",
      " 1\n",
      "Podaj maximum:\n",
      " 2\n"
     ]
    },
    {
     "data": {
      "text/plain": [
       "(1, 2)"
      ]
     },
     "execution_count": 25,
     "metadata": {},
     "output_type": "execute_result"
    }
   ],
   "source": [
    "get_user_range()"
   ]
  },
  {
   "cell_type": "code",
   "execution_count": 56,
   "id": "a682dc9d-61fb-4df4-9203-03be6734d6d6",
   "metadata": {},
   "outputs": [],
   "source": [
    "def draw_digit(min_d, max_d):\n",
    "    return random.randint(min_d, max_d)"
   ]
  },
  {
   "cell_type": "code",
   "execution_count": 69,
   "id": "a5f5e1e7-f485-4f34-9a84-a4d7fd504c17",
   "metadata": {},
   "outputs": [],
   "source": [
    "def guess_number(number_min, number_max, number_to_guess):\n",
    "    print(f'Zgadnij liczbę z zakresu {number_min} - {number_max}.')\n",
    "    counter = 0\n",
    "    \n",
    "    while True:\n",
    "        counter += 1\n",
    "        user_digit = int(input('Podaj liczbę: \\n'))\n",
    "\n",
    "        if user_digit > number_to_guess:\n",
    "            print('Za dużo')\n",
    "        elif user_digit < number_to_guess:\n",
    "            print('Za mało')\n",
    "        else:\n",
    "            print(f'Trafiłeś! Wygrałeś za {counter} razem!')\n",
    "            return\n",
    "        "
   ]
  },
  {
   "cell_type": "code",
   "execution_count": 70,
   "id": "ab498705-8590-43a6-b8ec-34c9f0a756f2",
   "metadata": {},
   "outputs": [],
   "source": [
    "def play():\n",
    "    n_min, n_max = get_user_range()\n",
    "    drawn_number = draw_digit(n_min, n_max)\n",
    "    guess_number(n_min, n_max, drawn_number)\n",
    "\n",
    "    play_again = input('Czy chcesz zagrać jeszcze raz? [y/n]')\n",
    "\n",
    "    if play_again.lower() == 'y':\n",
    "        play()\n",
    "    print('GAME OVER')\n"
   ]
  },
  {
   "cell_type": "code",
   "execution_count": 73,
   "id": "1b87ad8a-f98f-4d18-a192-2f0e2b93dcc7",
   "metadata": {},
   "outputs": [
    {
     "name": "stdin",
     "output_type": "stream",
     "text": [
      "Podaj minimum:\n",
      " 1\n",
      "Podaj maximum:\n",
      " 20000\n"
     ]
    },
    {
     "name": "stdout",
     "output_type": "stream",
     "text": [
      "Zgadnij liczbę z zakresu 1 - 20000.\n"
     ]
    },
    {
     "name": "stdin",
     "output_type": "stream",
     "text": [
      "Podaj liczbę: \n",
      " 10000\n"
     ]
    },
    {
     "name": "stdout",
     "output_type": "stream",
     "text": [
      "Za dużo\n"
     ]
    },
    {
     "name": "stdin",
     "output_type": "stream",
     "text": [
      "Podaj liczbę: \n",
      " 5000\n"
     ]
    },
    {
     "name": "stdout",
     "output_type": "stream",
     "text": [
      "Za dużo\n"
     ]
    },
    {
     "name": "stdin",
     "output_type": "stream",
     "text": [
      "Podaj liczbę: \n",
      " 2500\n"
     ]
    },
    {
     "name": "stdout",
     "output_type": "stream",
     "text": [
      "Za mało\n"
     ]
    },
    {
     "name": "stdin",
     "output_type": "stream",
     "text": [
      "Podaj liczbę: \n",
      " 3750\n"
     ]
    },
    {
     "name": "stdout",
     "output_type": "stream",
     "text": [
      "Za mało\n"
     ]
    },
    {
     "name": "stdin",
     "output_type": "stream",
     "text": [
      "Podaj liczbę: \n",
      " 4250\n"
     ]
    },
    {
     "name": "stdout",
     "output_type": "stream",
     "text": [
      "Za dużo\n"
     ]
    },
    {
     "name": "stdin",
     "output_type": "stream",
     "text": [
      "Podaj liczbę: \n",
      " 4000\n"
     ]
    },
    {
     "name": "stdout",
     "output_type": "stream",
     "text": [
      "Za dużo\n"
     ]
    },
    {
     "name": "stdin",
     "output_type": "stream",
     "text": [
      "Podaj liczbę: \n",
      " 3850\n"
     ]
    },
    {
     "name": "stdout",
     "output_type": "stream",
     "text": [
      "Za mało\n"
     ]
    },
    {
     "name": "stdin",
     "output_type": "stream",
     "text": [
      "Podaj liczbę: \n",
      " 3900\n"
     ]
    },
    {
     "name": "stdout",
     "output_type": "stream",
     "text": [
      "Za mało\n"
     ]
    },
    {
     "name": "stdin",
     "output_type": "stream",
     "text": [
      "Podaj liczbę: \n",
      " 3950\n"
     ]
    },
    {
     "name": "stdout",
     "output_type": "stream",
     "text": [
      "Za dużo\n"
     ]
    },
    {
     "name": "stdin",
     "output_type": "stream",
     "text": [
      "Podaj liczbę: \n",
      " 3925\n"
     ]
    },
    {
     "name": "stdout",
     "output_type": "stream",
     "text": [
      "Za mało\n"
     ]
    },
    {
     "name": "stdin",
     "output_type": "stream",
     "text": [
      "Podaj liczbę: \n",
      " 3940\n"
     ]
    },
    {
     "name": "stdout",
     "output_type": "stream",
     "text": [
      "Za mało\n"
     ]
    },
    {
     "name": "stdin",
     "output_type": "stream",
     "text": [
      "Podaj liczbę: \n",
      " 3945\n"
     ]
    },
    {
     "name": "stdout",
     "output_type": "stream",
     "text": [
      "Za dużo\n"
     ]
    },
    {
     "name": "stdin",
     "output_type": "stream",
     "text": [
      "Podaj liczbę: \n",
      " 3942\n"
     ]
    },
    {
     "name": "stdout",
     "output_type": "stream",
     "text": [
      "Za dużo\n"
     ]
    },
    {
     "name": "stdin",
     "output_type": "stream",
     "text": [
      "Podaj liczbę: \n",
      " 3941\n"
     ]
    },
    {
     "name": "stdout",
     "output_type": "stream",
     "text": [
      "Trafiłeś! Wygrałeś za 14 razem!\n"
     ]
    },
    {
     "name": "stdin",
     "output_type": "stream",
     "text": [
      "Czy chcesz zagrać jeszcze raz? [y/n] n\n"
     ]
    },
    {
     "name": "stdout",
     "output_type": "stream",
     "text": [
      "GAME OVER\n"
     ]
    }
   ],
   "source": [
    "play()"
   ]
  },
  {
   "cell_type": "code",
   "execution_count": null,
   "id": "5f381d8f-c0b2-4488-8652-596fad76fe33",
   "metadata": {},
   "outputs": [],
   "source": [
    "# 1-20000"
   ]
  }
 ],
 "metadata": {
  "kernelspec": {
   "display_name": "Python 3 (ipykernel)",
   "language": "python",
   "name": "python3"
  },
  "language_info": {
   "codemirror_mode": {
    "name": "ipython",
    "version": 3
   },
   "file_extension": ".py",
   "mimetype": "text/x-python",
   "name": "python",
   "nbconvert_exporter": "python",
   "pygments_lexer": "ipython3",
   "version": "3.12.3"
  }
 },
 "nbformat": 4,
 "nbformat_minor": 5
}
