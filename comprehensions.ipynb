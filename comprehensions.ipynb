{
 "cells": [
  {
   "cell_type": "markdown",
   "id": "cf157a56-3fc0-42b2-bad6-408e626a209d",
   "metadata": {},
   "source": [
    "# Comprehensions\n",
    "\n",
    "1. list comprehension\n",
    "2. set comprehension\n",
    "3. dict comprehension\n",
    "4. generator expression"
   ]
  },
  {
   "cell_type": "markdown",
   "id": "88bc75d6-d0e9-4445-85d5-cb4619d12376",
   "metadata": {},
   "source": [
    "## List comprehension\n",
    "\n",
    "```python\n",
    "\n",
    "[item for item in iterable if condition]\n",
    "[mapping for element in iterable if filtering]\n",
    "\n",
    "```"
   ]
  },
  {
   "cell_type": "code",
   "execution_count": 1,
   "id": "9a6afb0c-0a46-49bc-b139-899ca8f795a0",
   "metadata": {},
   "outputs": [],
   "source": [
    "data = [1, 2, 3, 4]"
   ]
  },
  {
   "cell_type": "code",
   "execution_count": 2,
   "id": "ce6053d1-3f96-4ea6-9089-c88cecd5cef9",
   "metadata": {},
   "outputs": [
    {
     "data": {
      "text/plain": [
       "[2, 4, 6, 8]"
      ]
     },
     "execution_count": 2,
     "metadata": {},
     "output_type": "execute_result"
    }
   ],
   "source": [
    "data2 = []\n",
    "\n",
    "for digit in data:\n",
    "    data2.append(digit * 2)\n",
    "\n",
    "data2"
   ]
  },
  {
   "cell_type": "code",
   "execution_count": 4,
   "id": "b1caa5a2-0580-46b0-bc42-49609c50add9",
   "metadata": {},
   "outputs": [
    {
     "data": {
      "text/plain": [
       "[2, 4, 6, 8]"
      ]
     },
     "execution_count": 4,
     "metadata": {},
     "output_type": "execute_result"
    }
   ],
   "source": [
    "[digit * 2 for digit in data]"
   ]
  },
  {
   "cell_type": "code",
   "execution_count": 6,
   "id": "fdcd6f91-9686-4565-90a7-aaeaf71c4aa1",
   "metadata": {},
   "outputs": [
    {
     "data": {
      "text/plain": [
       "[2, 4, 6, 8]"
      ]
     },
     "execution_count": 6,
     "metadata": {},
     "output_type": "execute_result"
    }
   ],
   "source": [
    "list(map(lambda digit: digit * 2, data))"
   ]
  },
  {
   "cell_type": "code",
   "execution_count": 7,
   "id": "2093e913-d99f-499a-81d7-17daa021f0c3",
   "metadata": {},
   "outputs": [
    {
     "data": {
      "application/json": {
       "cell": {
        "!": "OSMagics",
        "HTML": "Other",
        "SVG": "Other",
        "bash": "Other",
        "capture": "ExecutionMagics",
        "code_wrap": "ExecutionMagics",
        "debug": "ExecutionMagics",
        "file": "Other",
        "html": "DisplayMagics",
        "javascript": "DisplayMagics",
        "js": "DisplayMagics",
        "latex": "DisplayMagics",
        "markdown": "DisplayMagics",
        "perl": "Other",
        "prun": "ExecutionMagics",
        "pypy": "Other",
        "python": "Other",
        "python2": "Other",
        "python3": "Other",
        "ruby": "Other",
        "script": "ScriptMagics",
        "sh": "Other",
        "svg": "DisplayMagics",
        "sx": "OSMagics",
        "system": "OSMagics",
        "time": "ExecutionMagics",
        "timeit": "ExecutionMagics",
        "writefile": "OSMagics"
       },
       "line": {
        "alias": "OSMagics",
        "alias_magic": "BasicMagics",
        "autoawait": "AsyncMagics",
        "autocall": "AutoMagics",
        "automagic": "AutoMagics",
        "autosave": "KernelMagics",
        "bookmark": "OSMagics",
        "cat": "Other",
        "cd": "OSMagics",
        "clear": "KernelMagics",
        "code_wrap": "ExecutionMagics",
        "colors": "BasicMagics",
        "conda": "PackagingMagics",
        "config": "ConfigMagics",
        "connect_info": "KernelMagics",
        "cp": "Other",
        "debug": "ExecutionMagics",
        "dhist": "OSMagics",
        "dirs": "OSMagics",
        "doctest_mode": "BasicMagics",
        "ed": "Other",
        "edit": "KernelMagics",
        "env": "OSMagics",
        "gui": "BasicMagics",
        "hist": "Other",
        "history": "HistoryMagics",
        "killbgscripts": "ScriptMagics",
        "ldir": "Other",
        "less": "KernelMagics",
        "lf": "Other",
        "lk": "Other",
        "ll": "Other",
        "load": "CodeMagics",
        "load_ext": "ExtensionMagics",
        "loadpy": "CodeMagics",
        "logoff": "LoggingMagics",
        "logon": "LoggingMagics",
        "logstart": "LoggingMagics",
        "logstate": "LoggingMagics",
        "logstop": "LoggingMagics",
        "ls": "Other",
        "lsmagic": "BasicMagics",
        "lx": "Other",
        "macro": "ExecutionMagics",
        "magic": "BasicMagics",
        "mamba": "PackagingMagics",
        "man": "KernelMagics",
        "matplotlib": "PylabMagics",
        "micromamba": "PackagingMagics",
        "mkdir": "Other",
        "more": "KernelMagics",
        "mv": "Other",
        "notebook": "BasicMagics",
        "page": "BasicMagics",
        "pastebin": "CodeMagics",
        "pdb": "ExecutionMagics",
        "pdef": "NamespaceMagics",
        "pdoc": "NamespaceMagics",
        "pfile": "NamespaceMagics",
        "pinfo": "NamespaceMagics",
        "pinfo2": "NamespaceMagics",
        "pip": "PackagingMagics",
        "popd": "OSMagics",
        "pprint": "BasicMagics",
        "precision": "BasicMagics",
        "prun": "ExecutionMagics",
        "psearch": "NamespaceMagics",
        "psource": "NamespaceMagics",
        "pushd": "OSMagics",
        "pwd": "OSMagics",
        "pycat": "OSMagics",
        "pylab": "PylabMagics",
        "qtconsole": "KernelMagics",
        "quickref": "BasicMagics",
        "recall": "HistoryMagics",
        "rehashx": "OSMagics",
        "reload_ext": "ExtensionMagics",
        "rep": "Other",
        "rerun": "HistoryMagics",
        "reset": "NamespaceMagics",
        "reset_selective": "NamespaceMagics",
        "rm": "Other",
        "rmdir": "Other",
        "run": "ExecutionMagics",
        "save": "CodeMagics",
        "sc": "OSMagics",
        "set_env": "OSMagics",
        "store": "StoreMagics",
        "sx": "OSMagics",
        "system": "OSMagics",
        "tb": "ExecutionMagics",
        "time": "ExecutionMagics",
        "timeit": "ExecutionMagics",
        "unalias": "OSMagics",
        "unload_ext": "ExtensionMagics",
        "who": "NamespaceMagics",
        "who_ls": "NamespaceMagics",
        "whos": "NamespaceMagics",
        "xdel": "NamespaceMagics",
        "xmode": "BasicMagics"
       }
      },
      "text/plain": [
       "Available line magics:\n",
       "%alias  %alias_magic  %autoawait  %autocall  %automagic  %autosave  %bookmark  %cat  %cd  %clear  %code_wrap  %colors  %conda  %config  %connect_info  %cp  %debug  %dhist  %dirs  %doctest_mode  %ed  %edit  %env  %gui  %hist  %history  %killbgscripts  %ldir  %less  %lf  %lk  %ll  %load  %load_ext  %loadpy  %logoff  %logon  %logstart  %logstate  %logstop  %ls  %lsmagic  %lx  %macro  %magic  %mamba  %man  %matplotlib  %micromamba  %mkdir  %more  %mv  %notebook  %page  %pastebin  %pdb  %pdef  %pdoc  %pfile  %pinfo  %pinfo2  %pip  %popd  %pprint  %precision  %prun  %psearch  %psource  %pushd  %pwd  %pycat  %pylab  %qtconsole  %quickref  %recall  %rehashx  %reload_ext  %rep  %rerun  %reset  %reset_selective  %rm  %rmdir  %run  %save  %sc  %set_env  %store  %sx  %system  %tb  %time  %timeit  %unalias  %unload_ext  %who  %who_ls  %whos  %xdel  %xmode\n",
       "\n",
       "Available cell magics:\n",
       "%%!  %%HTML  %%SVG  %%bash  %%capture  %%code_wrap  %%debug  %%file  %%html  %%javascript  %%js  %%latex  %%markdown  %%perl  %%prun  %%pypy  %%python  %%python2  %%python3  %%ruby  %%script  %%sh  %%svg  %%sx  %%system  %%time  %%timeit  %%writefile\n",
       "\n",
       "Automagic is ON, % prefix IS NOT needed for line magics."
      ]
     },
     "execution_count": 7,
     "metadata": {},
     "output_type": "execute_result"
    }
   ],
   "source": [
    "%lsmagic"
   ]
  },
  {
   "cell_type": "code",
   "execution_count": 14,
   "id": "c03525d8-8953-4337-afe0-e8e9f425336f",
   "metadata": {},
   "outputs": [
    {
     "name": "stdout",
     "output_type": "stream",
     "text": [
      "62.7 ns ± 0.348 ns per loop (mean ± std. dev. of 7 runs, 10,000,000 loops each)\n"
     ]
    }
   ],
   "source": [
    "%%timeit\n",
    "\n",
    "x = [digit * 2 for digit in data]"
   ]
  },
  {
   "cell_type": "code",
   "execution_count": 15,
   "id": "2093af20-8b3b-4807-91dc-523f7b482975",
   "metadata": {},
   "outputs": [
    {
     "name": "stdout",
     "output_type": "stream",
     "text": [
      "73.1 ns ± 0.574 ns per loop (mean ± std. dev. of 7 runs, 10,000,000 loops each)\n"
     ]
    }
   ],
   "source": [
    "%%timeit\n",
    "\n",
    "x = map(lambda digit: digit * 2, data)"
   ]
  },
  {
   "cell_type": "code",
   "execution_count": 16,
   "id": "cc4321c7-bcd1-45a2-891a-6723c14e8f2a",
   "metadata": {},
   "outputs": [],
   "source": [
    "data = [1, 2, 3, 4]"
   ]
  },
  {
   "cell_type": "code",
   "execution_count": 17,
   "id": "3e6cb3cf-96ed-4984-befb-cde216bd4d84",
   "metadata": {},
   "outputs": [
    {
     "data": {
      "text/plain": [
       "[4, 8]"
      ]
     },
     "execution_count": 17,
     "metadata": {},
     "output_type": "execute_result"
    }
   ],
   "source": [
    "data2 = []\n",
    "\n",
    "for digit in data:\n",
    "    if digit % 2 == 0:\n",
    "        data2.append(digit * 2)\n",
    "\n",
    "data2"
   ]
  },
  {
   "cell_type": "code",
   "execution_count": 18,
   "id": "f338c621-2652-4393-a420-7147ae9def31",
   "metadata": {},
   "outputs": [
    {
     "data": {
      "text/plain": [
       "[4, 8]"
      ]
     },
     "execution_count": 18,
     "metadata": {},
     "output_type": "execute_result"
    }
   ],
   "source": [
    "[digit * 2 for digit in data if digit % 2 == 0]"
   ]
  },
  {
   "cell_type": "code",
   "execution_count": 19,
   "id": "d178210c-3a1f-4763-a9c1-b7d5d958768f",
   "metadata": {},
   "outputs": [],
   "source": [
    "data = [[1, 2], [3, 4]]"
   ]
  },
  {
   "cell_type": "code",
   "execution_count": 22,
   "id": "fc4256b3-a495-4d47-af88-c723fcc1372d",
   "metadata": {},
   "outputs": [
    {
     "data": {
      "text/plain": [
       "[[2, 4], [6, 8]]"
      ]
     },
     "execution_count": 22,
     "metadata": {},
     "output_type": "execute_result"
    }
   ],
   "source": [
    "[[digit * 2 for digit in digits] for digits in data]"
   ]
  },
  {
   "cell_type": "code",
   "execution_count": 24,
   "id": "995f160c-676e-4f95-b640-75fdae8835cd",
   "metadata": {},
   "outputs": [
    {
     "data": {
      "text/plain": [
       "[1, 2, 3, 4]"
      ]
     },
     "execution_count": 24,
     "metadata": {},
     "output_type": "execute_result"
    }
   ],
   "source": [
    "# flat\n",
    "\n",
    "data2 = []\n",
    "\n",
    "for digits in data:\n",
    "    for digit in digits:\n",
    "        data2.append(digit)\n",
    "\n",
    "data2"
   ]
  },
  {
   "cell_type": "code",
   "execution_count": 26,
   "id": "ed9f54be-cb07-42cc-bc89-20baac537f2f",
   "metadata": {},
   "outputs": [
    {
     "data": {
      "text/plain": [
       "[1, 2, 3, 4]"
      ]
     },
     "execution_count": 26,
     "metadata": {},
     "output_type": "execute_result"
    }
   ],
   "source": [
    "[digit for digits in data for digit in digits]"
   ]
  },
  {
   "cell_type": "markdown",
   "id": "26f57387-7e22-4b07-9e17-7286a3f9a6c0",
   "metadata": {},
   "source": [
    "### Dict comprehension\n",
    "\n",
    "```python\n",
    "\n",
    "d = {key: value for key, value in iterable[x, y]}\n",
    "d2 = {key: None for key in iterable}\n",
    "\n",
    "```"
   ]
  },
  {
   "cell_type": "code",
   "execution_count": 28,
   "id": "69c047b4-c836-4885-b077-46bbb9afc02c",
   "metadata": {},
   "outputs": [],
   "source": [
    "capitals = {\n",
    "    \"Poland\": \"Warsaw\",\n",
    "    \"Germany\": \"Berlin\",\n",
    "    \"France\": \"Paris\",\n",
    "    \"Italy\": \"Rome\",\n",
    "    \"Spain\": \"Madrid\",\n",
    "    \"United Kingdom\": \"London\",\n",
    "    \"United States\": \"Washington, D.C.\",\n",
    "    \"Canada\": \"Ottawa\",\n",
    "    \"Australia\": \"Canberra\",\n",
    "    \"Japan\": \"Tokyo\"\n",
    "}"
   ]
  },
  {
   "cell_type": "code",
   "execution_count": 29,
   "id": "4ca0fa50-6b3e-4f05-8e46-c7c5627f83ed",
   "metadata": {},
   "outputs": [
    {
     "data": {
      "text/plain": [
       "{'poland': 'warsaw',\n",
       " 'germany': 'berlin',\n",
       " 'france': 'paris',\n",
       " 'italy': 'rome',\n",
       " 'spain': 'madrid',\n",
       " 'united kingdom': 'london',\n",
       " 'united states': 'washington, d.c.',\n",
       " 'canada': 'ottawa',\n",
       " 'australia': 'canberra',\n",
       " 'japan': 'tokyo'}"
      ]
     },
     "execution_count": 29,
     "metadata": {},
     "output_type": "execute_result"
    }
   ],
   "source": [
    "{country.lower(): capital.lower() for country, capital in capitals.items()}"
   ]
  },
  {
   "cell_type": "code",
   "execution_count": 30,
   "id": "10a9ec18-dd12-4e73-a4ec-7e32a7f2245e",
   "metadata": {},
   "outputs": [
    {
     "data": {
      "text/plain": [
       "{'Poland': 'Warsaw',\n",
       " 'Germany': 'Berlin',\n",
       " 'France': 'Paris',\n",
       " 'Italy': 'Rome',\n",
       " 'Spain': 'Madrid',\n",
       " 'United States': 'Washington, D.C.',\n",
       " 'Canada': 'Ottawa',\n",
       " 'Australia': 'Canberra',\n",
       " 'Japan': 'Tokyo'}"
      ]
     },
     "execution_count": 30,
     "metadata": {},
     "output_type": "execute_result"
    }
   ],
   "source": [
    "{country: capital for country, capital in capitals.items() if \"a\" in country}"
   ]
  },
  {
   "cell_type": "code",
   "execution_count": 31,
   "id": "09789ca2-59b2-4cab-b1da-078980b27f2c",
   "metadata": {},
   "outputs": [],
   "source": [
    "capitals[\"Wielka Rzeczpospolita\"] = \"Warsaw\""
   ]
  },
  {
   "cell_type": "code",
   "execution_count": 32,
   "id": "98444b54-496b-406b-9bc1-7daa70d311e7",
   "metadata": {},
   "outputs": [
    {
     "data": {
      "text/plain": [
       "{'Poland': 'Warsaw',\n",
       " 'Germany': 'Berlin',\n",
       " 'France': 'Paris',\n",
       " 'Italy': 'Rome',\n",
       " 'Spain': 'Madrid',\n",
       " 'United Kingdom': 'London',\n",
       " 'United States': 'Washington, D.C.',\n",
       " 'Canada': 'Ottawa',\n",
       " 'Australia': 'Canberra',\n",
       " 'Japan': 'Tokyo',\n",
       " 'Wielka Rzeczpospolita': 'Warsaw'}"
      ]
     },
     "execution_count": 32,
     "metadata": {},
     "output_type": "execute_result"
    }
   ],
   "source": [
    "capitals"
   ]
  },
  {
   "cell_type": "code",
   "execution_count": 34,
   "id": "a7dca844-1680-4832-b00c-5fe513cf9c4c",
   "metadata": {},
   "outputs": [
    {
     "data": {
      "text/plain": [
       "{'Warsaw': 'Wielka Rzeczpospolita',\n",
       " 'Berlin': 'Germany',\n",
       " 'Paris': 'France',\n",
       " 'Rome': 'Italy',\n",
       " 'Madrid': 'Spain',\n",
       " 'London': 'United Kingdom',\n",
       " 'Washington, D.C.': 'United States',\n",
       " 'Ottawa': 'Canada',\n",
       " 'Canberra': 'Australia',\n",
       " 'Tokyo': 'Japan'}"
      ]
     },
     "execution_count": 34,
     "metadata": {},
     "output_type": "execute_result"
    }
   ],
   "source": [
    "{value: key for key, value in capitals.items()}"
   ]
  },
  {
   "cell_type": "code",
   "execution_count": 35,
   "id": "3a860b4f-2e8d-47b8-9f07-9ca166ce31cc",
   "metadata": {},
   "outputs": [],
   "source": [
    "letters  = \"ABCDEG\"\n",
    "rows = range(1, 25)"
   ]
  },
  {
   "cell_type": "code",
   "execution_count": 41,
   "id": "d252fb26-6ceb-44e8-86b8-61c87d014014",
   "metadata": {},
   "outputs": [],
   "source": [
    "seating_plan = [None] + [{letter: None for letter in letters} for _ in rows]"
   ]
  },
  {
   "cell_type": "code",
   "execution_count": 42,
   "id": "4c80e3f9-a1b9-45ce-92d7-dcd3d5982aa0",
   "metadata": {},
   "outputs": [],
   "source": [
    "seating_plan[1][\"A\"] = \"Dawid\""
   ]
  },
  {
   "cell_type": "code",
   "execution_count": 43,
   "id": "250b3eb7-3c4d-4c69-8501-73975ed4a7d7",
   "metadata": {},
   "outputs": [
    {
     "data": {
      "text/plain": [
       "[None,\n",
       " {'A': 'Dawid', 'B': None, 'C': None, 'D': None, 'E': None, 'G': None},\n",
       " {'A': None, 'B': None, 'C': None, 'D': None, 'E': None, 'G': None},\n",
       " {'A': None, 'B': None, 'C': None, 'D': None, 'E': None, 'G': None},\n",
       " {'A': None, 'B': None, 'C': None, 'D': None, 'E': None, 'G': None},\n",
       " {'A': None, 'B': None, 'C': None, 'D': None, 'E': None, 'G': None},\n",
       " {'A': None, 'B': None, 'C': None, 'D': None, 'E': None, 'G': None},\n",
       " {'A': None, 'B': None, 'C': None, 'D': None, 'E': None, 'G': None},\n",
       " {'A': None, 'B': None, 'C': None, 'D': None, 'E': None, 'G': None},\n",
       " {'A': None, 'B': None, 'C': None, 'D': None, 'E': None, 'G': None},\n",
       " {'A': None, 'B': None, 'C': None, 'D': None, 'E': None, 'G': None},\n",
       " {'A': None, 'B': None, 'C': None, 'D': None, 'E': None, 'G': None},\n",
       " {'A': None, 'B': None, 'C': None, 'D': None, 'E': None, 'G': None},\n",
       " {'A': None, 'B': None, 'C': None, 'D': None, 'E': None, 'G': None},\n",
       " {'A': None, 'B': None, 'C': None, 'D': None, 'E': None, 'G': None},\n",
       " {'A': None, 'B': None, 'C': None, 'D': None, 'E': None, 'G': None},\n",
       " {'A': None, 'B': None, 'C': None, 'D': None, 'E': None, 'G': None},\n",
       " {'A': None, 'B': None, 'C': None, 'D': None, 'E': None, 'G': None},\n",
       " {'A': None, 'B': None, 'C': None, 'D': None, 'E': None, 'G': None},\n",
       " {'A': None, 'B': None, 'C': None, 'D': None, 'E': None, 'G': None},\n",
       " {'A': None, 'B': None, 'C': None, 'D': None, 'E': None, 'G': None},\n",
       " {'A': None, 'B': None, 'C': None, 'D': None, 'E': None, 'G': None},\n",
       " {'A': None, 'B': None, 'C': None, 'D': None, 'E': None, 'G': None},\n",
       " {'A': None, 'B': None, 'C': None, 'D': None, 'E': None, 'G': None},\n",
       " {'A': None, 'B': None, 'C': None, 'D': None, 'E': None, 'G': None}]"
      ]
     },
     "execution_count": 43,
     "metadata": {},
     "output_type": "execute_result"
    }
   ],
   "source": [
    "seating_plan"
   ]
  },
  {
   "cell_type": "code",
   "execution_count": null,
   "id": "331ba5b9-f5ec-4a43-b6cc-aae4aab21396",
   "metadata": {},
   "outputs": [],
   "source": []
  }
 ],
 "metadata": {
  "kernelspec": {
   "display_name": "Python 3 (ipykernel)",
   "language": "python",
   "name": "python3"
  },
  "language_info": {
   "codemirror_mode": {
    "name": "ipython",
    "version": 3
   },
   "file_extension": ".py",
   "mimetype": "text/x-python",
   "name": "python",
   "nbconvert_exporter": "python",
   "pygments_lexer": "ipython3",
   "version": "3.12.3"
  }
 },
 "nbformat": 4,
 "nbformat_minor": 5
}
