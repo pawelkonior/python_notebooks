{
 "cells": [
  {
   "cell_type": "markdown",
   "id": "aac1877d-82cd-439e-9db6-159dcfec5235",
   "metadata": {},
   "source": [
    "# Functions\n",
    "\n",
    "- named\n",
    "- anonymous"
   ]
  },
  {
   "cell_type": "markdown",
   "id": "5334e18b-c6c2-44ac-ac80-2dee334eebf4",
   "metadata": {},
   "source": [
    "![Fn diagram](./fn_diagram.png)"
   ]
  },
  {
   "cell_type": "code",
   "execution_count": 1,
   "id": "aa2e0639-2386-4913-8c02-36c2a0968250",
   "metadata": {},
   "outputs": [],
   "source": [
    "def add(digit_1, digit_2):\n",
    "    return digit_1 + digit_2"
   ]
  },
  {
   "cell_type": "code",
   "execution_count": 2,
   "id": "f7bd3e3f-e425-4cc4-bff1-77e407cbdde2",
   "metadata": {},
   "outputs": [
    {
     "data": {
      "text/plain": [
       "15"
      ]
     },
     "execution_count": 2,
     "metadata": {},
     "output_type": "execute_result"
    }
   ],
   "source": [
    "add(5, 10)"
   ]
  },
  {
   "cell_type": "code",
   "execution_count": 3,
   "id": "62a15a71-8ac1-4588-b33b-b71b1043b97e",
   "metadata": {},
   "outputs": [
    {
     "data": {
      "text/plain": [
       "'ala ma kota i wszy'"
      ]
     },
     "execution_count": 3,
     "metadata": {},
     "output_type": "execute_result"
    }
   ],
   "source": [
    "add(\"ala ma kota \", \"i wszy\")"
   ]
  },
  {
   "cell_type": "markdown",
   "id": "0ae6e1db-674e-4139-9895-c4db4e73ed00",
   "metadata": {},
   "source": [
    "##### Napisz fn my_max (ma zwracać maksymalną wartość z listy)\n",
    "\n",
    "```python\n",
    "\n",
    "def my_max(coll):\n",
    "    pass\n",
    "\n",
    "my_max([1, 2, 3])  # 3\n",
    "\n",
    "```"
   ]
  },
  {
   "cell_type": "code",
   "execution_count": 6,
   "id": "9d9bff2c-0b2d-426c-872b-06a000cd96ac",
   "metadata": {},
   "outputs": [],
   "source": [
    "def my_max(coll):\n",
    "    max_value = coll[0]\n",
    "\n",
    "    for digit in coll:\n",
    "        if digit > max_value:\n",
    "            max_value = digit\n",
    "\n",
    "    return max_value"
   ]
  },
  {
   "cell_type": "code",
   "execution_count": 7,
   "id": "bbf6b9f4-f655-426c-97f8-3f6bc84db2b6",
   "metadata": {},
   "outputs": [
    {
     "data": {
      "text/plain": [
       "3"
      ]
     },
     "execution_count": 7,
     "metadata": {},
     "output_type": "execute_result"
    }
   ],
   "source": [
    "my_max([1, 2, 3])"
   ]
  },
  {
   "cell_type": "markdown",
   "id": "06e253c7-db85-41bd-a00e-346b795bc858",
   "metadata": {},
   "source": [
    "##### Napisz funkcje range, która działa podobnie do range"
   ]
  },
  {
   "cell_type": "code",
   "execution_count": 43,
   "id": "395603a7-6e56-426d-8401-224ffde534ea",
   "metadata": {},
   "outputs": [],
   "source": [
    "def my_range(start, stop=None, step=1):\n",
    "    if stop is None:\n",
    "        stop = start\n",
    "        start = 0\n",
    "    \n",
    "    digits = []\n",
    "    counter = start\n",
    "\n",
    "    while len(digits) < (stop - start) / step:\n",
    "        digits.append(counter)\n",
    "        counter += step\n",
    "\n",
    "    return digits"
   ]
  },
  {
   "cell_type": "code",
   "execution_count": 44,
   "id": "9a788b7a-24ca-41d9-98aa-86ff022b28b9",
   "metadata": {},
   "outputs": [
    {
     "data": {
      "text/plain": [
       "[0, 1, 2, 3, 4, 5, 6, 7, 8, 9]"
      ]
     },
     "execution_count": 44,
     "metadata": {},
     "output_type": "execute_result"
    }
   ],
   "source": [
    "list(range(10))"
   ]
  },
  {
   "cell_type": "code",
   "execution_count": 45,
   "id": "922bbc29-ae64-4ea7-ac06-b6b4f66ad8d7",
   "metadata": {},
   "outputs": [
    {
     "data": {
      "text/plain": [
       "[0, 1, 2, 3, 4, 5, 6, 7, 8, 9]"
      ]
     },
     "execution_count": 45,
     "metadata": {},
     "output_type": "execute_result"
    }
   ],
   "source": [
    "my_range(10)"
   ]
  },
  {
   "cell_type": "code",
   "execution_count": 46,
   "id": "abebc568-6400-4c4b-933e-7103aac8ab87",
   "metadata": {},
   "outputs": [
    {
     "data": {
      "text/plain": [
       "[3, 4, 5, 6, 7, 8, 9]"
      ]
     },
     "execution_count": 46,
     "metadata": {},
     "output_type": "execute_result"
    }
   ],
   "source": [
    "my_range(3, 10)"
   ]
  },
  {
   "cell_type": "code",
   "execution_count": 47,
   "id": "6a4c5e56-d6f4-49f6-9058-6761b8d55ef2",
   "metadata": {},
   "outputs": [
    {
     "data": {
      "text/plain": [
       "[3, 5, 7, 9]"
      ]
     },
     "execution_count": 47,
     "metadata": {},
     "output_type": "execute_result"
    }
   ],
   "source": [
    "list(range(3, 10, 2))"
   ]
  },
  {
   "cell_type": "code",
   "execution_count": 48,
   "id": "89e7976c-8735-4c7c-82ee-bb9776c897cc",
   "metadata": {},
   "outputs": [
    {
     "data": {
      "text/plain": [
       "[3, 5, 7, 9]"
      ]
     },
     "execution_count": 48,
     "metadata": {},
     "output_type": "execute_result"
    }
   ],
   "source": [
    "my_range(3, 10, 2)"
   ]
  },
  {
   "cell_type": "code",
   "execution_count": 49,
   "id": "3c46033a-8418-480a-b470-1f60a092a044",
   "metadata": {},
   "outputs": [
    {
     "data": {
      "text/plain": [
       "[10, 9, 8, 7, 6, 5, 4, 3, 2, 1, 0]"
      ]
     },
     "execution_count": 49,
     "metadata": {},
     "output_type": "execute_result"
    }
   ],
   "source": [
    "list(range(10, -1, -1))"
   ]
  },
  {
   "cell_type": "code",
   "execution_count": 50,
   "id": "dc4fb298-5de8-41c3-a9fc-58f12aa31c20",
   "metadata": {},
   "outputs": [
    {
     "data": {
      "text/plain": [
       "[10, 9, 8, 7, 6, 5, 4, 3, 2, 1, 0]"
      ]
     },
     "execution_count": 50,
     "metadata": {},
     "output_type": "execute_result"
    }
   ],
   "source": [
    "my_range(10, -1, -1)"
   ]
  },
  {
   "cell_type": "code",
   "execution_count": 51,
   "id": "e2c89009-7634-420a-8cd3-3c51852d2b02",
   "metadata": {},
   "outputs": [
    {
     "data": {
      "text/plain": [
       "[]"
      ]
     },
     "execution_count": 51,
     "metadata": {},
     "output_type": "execute_result"
    }
   ],
   "source": [
    "list(range(1, 5, -1))"
   ]
  },
  {
   "cell_type": "code",
   "execution_count": 52,
   "id": "58ae8075-cba7-4ffc-9352-ac058da88c0c",
   "metadata": {},
   "outputs": [
    {
     "data": {
      "text/plain": [
       "[]"
      ]
     },
     "execution_count": 52,
     "metadata": {},
     "output_type": "execute_result"
    }
   ],
   "source": [
    "my_range(1, 5, -1)"
   ]
  },
  {
   "cell_type": "code",
   "execution_count": null,
   "id": "70e9b2a7-4d2a-4114-b191-d5e73816ff63",
   "metadata": {},
   "outputs": [],
   "source": []
  }
 ],
 "metadata": {
  "kernelspec": {
   "display_name": "Python 3 (ipykernel)",
   "language": "python",
   "name": "python3"
  },
  "language_info": {
   "codemirror_mode": {
    "name": "ipython",
    "version": 3
   },
   "file_extension": ".py",
   "mimetype": "text/x-python",
   "name": "python",
   "nbconvert_exporter": "python",
   "pygments_lexer": "ipython3",
   "version": "3.12.3"
  }
 },
 "nbformat": 4,
 "nbformat_minor": 5
}
